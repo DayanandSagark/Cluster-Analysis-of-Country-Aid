{
 "cells": [
  {
   "cell_type": "markdown",
   "metadata": {},
   "source": [
    "# CLusering & PCA Assignment"
   ]
  },
  {
   "cell_type": "code",
   "execution_count": 516,
   "metadata": {},
   "outputs": [],
   "source": [
    "# Importing Libraries\n",
    "import numpy as np\n",
    "import pandas as pd\n",
    "import seaborn as sns\n",
    "import matplotlib.pyplot as plt\n",
    "\n",
    "\n",
    "import sklearn\n",
    "from sklearn.preprocessing import StandardScaler\n",
    "from sklearn.cluster import KMeans\n",
    "from sklearn.metrics import silhouette_score\n",
    "\n",
    "from scipy.cluster.hierarchy import linkage\n",
    "from scipy.cluster.hierarchy import dendrogram\n",
    "from scipy.cluster.hierarchy import cut_tree"
   ]
  },
  {
   "cell_type": "code",
   "execution_count": 517,
   "metadata": {},
   "outputs": [
    {
     "data": {
      "text/html": [
       "<div>\n",
       "<style scoped>\n",
       "    .dataframe tbody tr th:only-of-type {\n",
       "        vertical-align: middle;\n",
       "    }\n",
       "\n",
       "    .dataframe tbody tr th {\n",
       "        vertical-align: top;\n",
       "    }\n",
       "\n",
       "    .dataframe thead th {\n",
       "        text-align: right;\n",
       "    }\n",
       "</style>\n",
       "<table border=\"1\" class=\"dataframe\">\n",
       "  <thead>\n",
       "    <tr style=\"text-align: right;\">\n",
       "      <th></th>\n",
       "      <th>country</th>\n",
       "      <th>child_mort</th>\n",
       "      <th>exports</th>\n",
       "      <th>health</th>\n",
       "      <th>imports</th>\n",
       "      <th>income</th>\n",
       "      <th>inflation</th>\n",
       "      <th>life_expec</th>\n",
       "      <th>total_fer</th>\n",
       "      <th>gdpp</th>\n",
       "    </tr>\n",
       "  </thead>\n",
       "  <tbody>\n",
       "    <tr>\n",
       "      <th>0</th>\n",
       "      <td>Afghanistan</td>\n",
       "      <td>90.2</td>\n",
       "      <td>55.3000</td>\n",
       "      <td>41.9174</td>\n",
       "      <td>248.297</td>\n",
       "      <td>1610</td>\n",
       "      <td>9.440</td>\n",
       "      <td>56.2</td>\n",
       "      <td>5.82</td>\n",
       "      <td>553</td>\n",
       "    </tr>\n",
       "    <tr>\n",
       "      <th>1</th>\n",
       "      <td>Albania</td>\n",
       "      <td>16.6</td>\n",
       "      <td>1145.2000</td>\n",
       "      <td>267.8950</td>\n",
       "      <td>1987.740</td>\n",
       "      <td>9930</td>\n",
       "      <td>4.490</td>\n",
       "      <td>76.3</td>\n",
       "      <td>1.65</td>\n",
       "      <td>4090</td>\n",
       "    </tr>\n",
       "    <tr>\n",
       "      <th>2</th>\n",
       "      <td>Algeria</td>\n",
       "      <td>27.3</td>\n",
       "      <td>1712.6400</td>\n",
       "      <td>185.9820</td>\n",
       "      <td>1400.440</td>\n",
       "      <td>12900</td>\n",
       "      <td>16.100</td>\n",
       "      <td>76.5</td>\n",
       "      <td>2.89</td>\n",
       "      <td>4460</td>\n",
       "    </tr>\n",
       "    <tr>\n",
       "      <th>3</th>\n",
       "      <td>Angola</td>\n",
       "      <td>119.0</td>\n",
       "      <td>2199.1900</td>\n",
       "      <td>100.6050</td>\n",
       "      <td>1514.370</td>\n",
       "      <td>5900</td>\n",
       "      <td>22.400</td>\n",
       "      <td>60.1</td>\n",
       "      <td>6.16</td>\n",
       "      <td>3530</td>\n",
       "    </tr>\n",
       "    <tr>\n",
       "      <th>4</th>\n",
       "      <td>Antigua and Barbuda</td>\n",
       "      <td>10.3</td>\n",
       "      <td>5551.0000</td>\n",
       "      <td>735.6600</td>\n",
       "      <td>7185.800</td>\n",
       "      <td>19100</td>\n",
       "      <td>1.440</td>\n",
       "      <td>76.8</td>\n",
       "      <td>2.13</td>\n",
       "      <td>12200</td>\n",
       "    </tr>\n",
       "    <tr>\n",
       "      <th>5</th>\n",
       "      <td>Argentina</td>\n",
       "      <td>14.5</td>\n",
       "      <td>1946.7000</td>\n",
       "      <td>834.3000</td>\n",
       "      <td>1648.000</td>\n",
       "      <td>18700</td>\n",
       "      <td>20.900</td>\n",
       "      <td>75.8</td>\n",
       "      <td>2.37</td>\n",
       "      <td>10300</td>\n",
       "    </tr>\n",
       "    <tr>\n",
       "      <th>6</th>\n",
       "      <td>Armenia</td>\n",
       "      <td>18.1</td>\n",
       "      <td>669.7600</td>\n",
       "      <td>141.6800</td>\n",
       "      <td>1458.660</td>\n",
       "      <td>6700</td>\n",
       "      <td>7.770</td>\n",
       "      <td>73.3</td>\n",
       "      <td>1.69</td>\n",
       "      <td>3220</td>\n",
       "    </tr>\n",
       "    <tr>\n",
       "      <th>7</th>\n",
       "      <td>Australia</td>\n",
       "      <td>4.8</td>\n",
       "      <td>10276.2000</td>\n",
       "      <td>4530.8700</td>\n",
       "      <td>10847.100</td>\n",
       "      <td>41400</td>\n",
       "      <td>1.160</td>\n",
       "      <td>82.0</td>\n",
       "      <td>1.93</td>\n",
       "      <td>51900</td>\n",
       "    </tr>\n",
       "    <tr>\n",
       "      <th>8</th>\n",
       "      <td>Austria</td>\n",
       "      <td>4.3</td>\n",
       "      <td>24059.7000</td>\n",
       "      <td>5159.0000</td>\n",
       "      <td>22418.200</td>\n",
       "      <td>43200</td>\n",
       "      <td>0.873</td>\n",
       "      <td>80.5</td>\n",
       "      <td>1.44</td>\n",
       "      <td>46900</td>\n",
       "    </tr>\n",
       "    <tr>\n",
       "      <th>9</th>\n",
       "      <td>Azerbaijan</td>\n",
       "      <td>39.2</td>\n",
       "      <td>3171.1200</td>\n",
       "      <td>343.3920</td>\n",
       "      <td>1208.880</td>\n",
       "      <td>16000</td>\n",
       "      <td>13.800</td>\n",
       "      <td>69.1</td>\n",
       "      <td>1.92</td>\n",
       "      <td>5840</td>\n",
       "    </tr>\n",
       "    <tr>\n",
       "      <th>10</th>\n",
       "      <td>Bahamas</td>\n",
       "      <td>13.8</td>\n",
       "      <td>9800.0000</td>\n",
       "      <td>2209.2000</td>\n",
       "      <td>12236.000</td>\n",
       "      <td>22900</td>\n",
       "      <td>-0.393</td>\n",
       "      <td>73.8</td>\n",
       "      <td>1.86</td>\n",
       "      <td>28000</td>\n",
       "    </tr>\n",
       "    <tr>\n",
       "      <th>11</th>\n",
       "      <td>Bahrain</td>\n",
       "      <td>8.6</td>\n",
       "      <td>14386.5000</td>\n",
       "      <td>1028.7900</td>\n",
       "      <td>10536.300</td>\n",
       "      <td>41100</td>\n",
       "      <td>7.440</td>\n",
       "      <td>76.0</td>\n",
       "      <td>2.16</td>\n",
       "      <td>20700</td>\n",
       "    </tr>\n",
       "    <tr>\n",
       "      <th>12</th>\n",
       "      <td>Bangladesh</td>\n",
       "      <td>49.4</td>\n",
       "      <td>121.2800</td>\n",
       "      <td>26.6816</td>\n",
       "      <td>165.244</td>\n",
       "      <td>2440</td>\n",
       "      <td>7.140</td>\n",
       "      <td>70.4</td>\n",
       "      <td>2.33</td>\n",
       "      <td>758</td>\n",
       "    </tr>\n",
       "    <tr>\n",
       "      <th>13</th>\n",
       "      <td>Barbados</td>\n",
       "      <td>14.2</td>\n",
       "      <td>6320.0000</td>\n",
       "      <td>1275.2000</td>\n",
       "      <td>7792.000</td>\n",
       "      <td>15300</td>\n",
       "      <td>0.321</td>\n",
       "      <td>76.7</td>\n",
       "      <td>1.78</td>\n",
       "      <td>16000</td>\n",
       "    </tr>\n",
       "    <tr>\n",
       "      <th>14</th>\n",
       "      <td>Belarus</td>\n",
       "      <td>5.5</td>\n",
       "      <td>3099.4200</td>\n",
       "      <td>338.2830</td>\n",
       "      <td>3889.350</td>\n",
       "      <td>16200</td>\n",
       "      <td>15.100</td>\n",
       "      <td>70.4</td>\n",
       "      <td>1.49</td>\n",
       "      <td>6030</td>\n",
       "    </tr>\n",
       "    <tr>\n",
       "      <th>15</th>\n",
       "      <td>Belgium</td>\n",
       "      <td>4.5</td>\n",
       "      <td>33921.6000</td>\n",
       "      <td>4750.8000</td>\n",
       "      <td>33166.800</td>\n",
       "      <td>41100</td>\n",
       "      <td>1.880</td>\n",
       "      <td>80.0</td>\n",
       "      <td>1.86</td>\n",
       "      <td>44400</td>\n",
       "    </tr>\n",
       "    <tr>\n",
       "      <th>16</th>\n",
       "      <td>Belize</td>\n",
       "      <td>18.8</td>\n",
       "      <td>2525.8800</td>\n",
       "      <td>225.6800</td>\n",
       "      <td>2495.500</td>\n",
       "      <td>7880</td>\n",
       "      <td>1.140</td>\n",
       "      <td>71.4</td>\n",
       "      <td>2.71</td>\n",
       "      <td>4340</td>\n",
       "    </tr>\n",
       "    <tr>\n",
       "      <th>17</th>\n",
       "      <td>Benin</td>\n",
       "      <td>111.0</td>\n",
       "      <td>180.4040</td>\n",
       "      <td>31.0780</td>\n",
       "      <td>281.976</td>\n",
       "      <td>1820</td>\n",
       "      <td>0.885</td>\n",
       "      <td>61.8</td>\n",
       "      <td>5.36</td>\n",
       "      <td>758</td>\n",
       "    </tr>\n",
       "    <tr>\n",
       "      <th>18</th>\n",
       "      <td>Bhutan</td>\n",
       "      <td>42.7</td>\n",
       "      <td>926.5000</td>\n",
       "      <td>113.3600</td>\n",
       "      <td>1541.260</td>\n",
       "      <td>6420</td>\n",
       "      <td>5.990</td>\n",
       "      <td>72.1</td>\n",
       "      <td>2.38</td>\n",
       "      <td>2180</td>\n",
       "    </tr>\n",
       "    <tr>\n",
       "      <th>19</th>\n",
       "      <td>Bolivia</td>\n",
       "      <td>46.6</td>\n",
       "      <td>815.7600</td>\n",
       "      <td>95.8320</td>\n",
       "      <td>679.140</td>\n",
       "      <td>5410</td>\n",
       "      <td>8.780</td>\n",
       "      <td>71.6</td>\n",
       "      <td>3.20</td>\n",
       "      <td>1980</td>\n",
       "    </tr>\n",
       "    <tr>\n",
       "      <th>20</th>\n",
       "      <td>Bosnia and Herzegovina</td>\n",
       "      <td>6.9</td>\n",
       "      <td>1369.1700</td>\n",
       "      <td>511.7100</td>\n",
       "      <td>2364.930</td>\n",
       "      <td>9720</td>\n",
       "      <td>1.400</td>\n",
       "      <td>76.8</td>\n",
       "      <td>1.31</td>\n",
       "      <td>4610</td>\n",
       "    </tr>\n",
       "    <tr>\n",
       "      <th>21</th>\n",
       "      <td>Botswana</td>\n",
       "      <td>52.5</td>\n",
       "      <td>2768.6000</td>\n",
       "      <td>527.0500</td>\n",
       "      <td>3257.550</td>\n",
       "      <td>13300</td>\n",
       "      <td>8.920</td>\n",
       "      <td>57.1</td>\n",
       "      <td>2.88</td>\n",
       "      <td>6350</td>\n",
       "    </tr>\n",
       "    <tr>\n",
       "      <th>22</th>\n",
       "      <td>Brazil</td>\n",
       "      <td>19.8</td>\n",
       "      <td>1198.4000</td>\n",
       "      <td>1009.1200</td>\n",
       "      <td>1321.600</td>\n",
       "      <td>14500</td>\n",
       "      <td>8.410</td>\n",
       "      <td>74.2</td>\n",
       "      <td>1.80</td>\n",
       "      <td>11200</td>\n",
       "    </tr>\n",
       "    <tr>\n",
       "      <th>23</th>\n",
       "      <td>Brunei</td>\n",
       "      <td>10.5</td>\n",
       "      <td>23792.2000</td>\n",
       "      <td>1002.5200</td>\n",
       "      <td>9884.000</td>\n",
       "      <td>80600</td>\n",
       "      <td>16.700</td>\n",
       "      <td>77.1</td>\n",
       "      <td>1.84</td>\n",
       "      <td>35300</td>\n",
       "    </tr>\n",
       "    <tr>\n",
       "      <th>24</th>\n",
       "      <td>Bulgaria</td>\n",
       "      <td>10.8</td>\n",
       "      <td>3433.6800</td>\n",
       "      <td>469.9080</td>\n",
       "      <td>3625.200</td>\n",
       "      <td>15300</td>\n",
       "      <td>1.110</td>\n",
       "      <td>73.9</td>\n",
       "      <td>1.57</td>\n",
       "      <td>6840</td>\n",
       "    </tr>\n",
       "    <tr>\n",
       "      <th>25</th>\n",
       "      <td>Burkina Faso</td>\n",
       "      <td>116.0</td>\n",
       "      <td>110.4000</td>\n",
       "      <td>38.7550</td>\n",
       "      <td>170.200</td>\n",
       "      <td>1430</td>\n",
       "      <td>6.810</td>\n",
       "      <td>57.9</td>\n",
       "      <td>5.87</td>\n",
       "      <td>575</td>\n",
       "    </tr>\n",
       "    <tr>\n",
       "      <th>26</th>\n",
       "      <td>Burundi</td>\n",
       "      <td>93.6</td>\n",
       "      <td>20.6052</td>\n",
       "      <td>26.7960</td>\n",
       "      <td>90.552</td>\n",
       "      <td>764</td>\n",
       "      <td>12.300</td>\n",
       "      <td>57.7</td>\n",
       "      <td>6.26</td>\n",
       "      <td>231</td>\n",
       "    </tr>\n",
       "    <tr>\n",
       "      <th>27</th>\n",
       "      <td>Cambodia</td>\n",
       "      <td>44.4</td>\n",
       "      <td>425.2260</td>\n",
       "      <td>44.6448</td>\n",
       "      <td>467.670</td>\n",
       "      <td>2520</td>\n",
       "      <td>3.120</td>\n",
       "      <td>66.1</td>\n",
       "      <td>2.88</td>\n",
       "      <td>786</td>\n",
       "    </tr>\n",
       "    <tr>\n",
       "      <th>28</th>\n",
       "      <td>Cameroon</td>\n",
       "      <td>108.0</td>\n",
       "      <td>290.8200</td>\n",
       "      <td>67.2030</td>\n",
       "      <td>353.700</td>\n",
       "      <td>2660</td>\n",
       "      <td>1.910</td>\n",
       "      <td>57.3</td>\n",
       "      <td>5.11</td>\n",
       "      <td>1310</td>\n",
       "    </tr>\n",
       "    <tr>\n",
       "      <th>29</th>\n",
       "      <td>Canada</td>\n",
       "      <td>5.6</td>\n",
       "      <td>13793.4000</td>\n",
       "      <td>5356.2000</td>\n",
       "      <td>14694.000</td>\n",
       "      <td>40700</td>\n",
       "      <td>2.870</td>\n",
       "      <td>81.3</td>\n",
       "      <td>1.63</td>\n",
       "      <td>47400</td>\n",
       "    </tr>\n",
       "    <tr>\n",
       "      <th>...</th>\n",
       "      <td>...</td>\n",
       "      <td>...</td>\n",
       "      <td>...</td>\n",
       "      <td>...</td>\n",
       "      <td>...</td>\n",
       "      <td>...</td>\n",
       "      <td>...</td>\n",
       "      <td>...</td>\n",
       "      <td>...</td>\n",
       "      <td>...</td>\n",
       "    </tr>\n",
       "    <tr>\n",
       "      <th>137</th>\n",
       "      <td>South Africa</td>\n",
       "      <td>53.7</td>\n",
       "      <td>2082.0800</td>\n",
       "      <td>650.8320</td>\n",
       "      <td>1994.720</td>\n",
       "      <td>12000</td>\n",
       "      <td>6.350</td>\n",
       "      <td>54.3</td>\n",
       "      <td>2.59</td>\n",
       "      <td>7280</td>\n",
       "    </tr>\n",
       "    <tr>\n",
       "      <th>138</th>\n",
       "      <td>South Korea</td>\n",
       "      <td>4.1</td>\n",
       "      <td>10917.4000</td>\n",
       "      <td>1531.5300</td>\n",
       "      <td>10210.200</td>\n",
       "      <td>30400</td>\n",
       "      <td>3.160</td>\n",
       "      <td>80.1</td>\n",
       "      <td>1.23</td>\n",
       "      <td>22100</td>\n",
       "    </tr>\n",
       "    <tr>\n",
       "      <th>139</th>\n",
       "      <td>Spain</td>\n",
       "      <td>3.8</td>\n",
       "      <td>7828.5000</td>\n",
       "      <td>2928.7800</td>\n",
       "      <td>8227.600</td>\n",
       "      <td>32500</td>\n",
       "      <td>0.160</td>\n",
       "      <td>81.9</td>\n",
       "      <td>1.37</td>\n",
       "      <td>30700</td>\n",
       "    </tr>\n",
       "    <tr>\n",
       "      <th>140</th>\n",
       "      <td>Sri Lanka</td>\n",
       "      <td>11.2</td>\n",
       "      <td>550.7600</td>\n",
       "      <td>82.6140</td>\n",
       "      <td>753.080</td>\n",
       "      <td>8560</td>\n",
       "      <td>22.800</td>\n",
       "      <td>74.4</td>\n",
       "      <td>2.20</td>\n",
       "      <td>2810</td>\n",
       "    </tr>\n",
       "    <tr>\n",
       "      <th>141</th>\n",
       "      <td>St. Vincent and the Grenadines</td>\n",
       "      <td>20.7</td>\n",
       "      <td>1675.8700</td>\n",
       "      <td>278.4810</td>\n",
       "      <td>3557.330</td>\n",
       "      <td>9920</td>\n",
       "      <td>4.440</td>\n",
       "      <td>71.6</td>\n",
       "      <td>2.07</td>\n",
       "      <td>6230</td>\n",
       "    </tr>\n",
       "    <tr>\n",
       "      <th>142</th>\n",
       "      <td>Sudan</td>\n",
       "      <td>76.7</td>\n",
       "      <td>291.5600</td>\n",
       "      <td>93.5360</td>\n",
       "      <td>254.560</td>\n",
       "      <td>3370</td>\n",
       "      <td>19.600</td>\n",
       "      <td>66.3</td>\n",
       "      <td>4.88</td>\n",
       "      <td>1480</td>\n",
       "    </tr>\n",
       "    <tr>\n",
       "      <th>143</th>\n",
       "      <td>Suriname</td>\n",
       "      <td>24.1</td>\n",
       "      <td>4357.5000</td>\n",
       "      <td>581.8300</td>\n",
       "      <td>3187.200</td>\n",
       "      <td>14200</td>\n",
       "      <td>7.200</td>\n",
       "      <td>70.3</td>\n",
       "      <td>2.52</td>\n",
       "      <td>8300</td>\n",
       "    </tr>\n",
       "    <tr>\n",
       "      <th>144</th>\n",
       "      <td>Sweden</td>\n",
       "      <td>3.0</td>\n",
       "      <td>24070.2000</td>\n",
       "      <td>5017.2300</td>\n",
       "      <td>21204.700</td>\n",
       "      <td>42900</td>\n",
       "      <td>0.991</td>\n",
       "      <td>81.5</td>\n",
       "      <td>1.98</td>\n",
       "      <td>52100</td>\n",
       "    </tr>\n",
       "    <tr>\n",
       "      <th>145</th>\n",
       "      <td>Switzerland</td>\n",
       "      <td>4.5</td>\n",
       "      <td>47744.0000</td>\n",
       "      <td>8579.0000</td>\n",
       "      <td>39761.800</td>\n",
       "      <td>55500</td>\n",
       "      <td>0.317</td>\n",
       "      <td>82.2</td>\n",
       "      <td>1.52</td>\n",
       "      <td>74600</td>\n",
       "    </tr>\n",
       "    <tr>\n",
       "      <th>146</th>\n",
       "      <td>Tajikistan</td>\n",
       "      <td>52.4</td>\n",
       "      <td>109.9620</td>\n",
       "      <td>44.1324</td>\n",
       "      <td>432.468</td>\n",
       "      <td>2110</td>\n",
       "      <td>12.500</td>\n",
       "      <td>69.6</td>\n",
       "      <td>3.51</td>\n",
       "      <td>738</td>\n",
       "    </tr>\n",
       "    <tr>\n",
       "      <th>147</th>\n",
       "      <td>Tanzania</td>\n",
       "      <td>71.9</td>\n",
       "      <td>131.2740</td>\n",
       "      <td>42.1902</td>\n",
       "      <td>204.282</td>\n",
       "      <td>2090</td>\n",
       "      <td>9.250</td>\n",
       "      <td>59.3</td>\n",
       "      <td>5.43</td>\n",
       "      <td>702</td>\n",
       "    </tr>\n",
       "    <tr>\n",
       "      <th>148</th>\n",
       "      <td>Thailand</td>\n",
       "      <td>14.9</td>\n",
       "      <td>3378.2000</td>\n",
       "      <td>197.1040</td>\n",
       "      <td>3088.640</td>\n",
       "      <td>13500</td>\n",
       "      <td>4.080</td>\n",
       "      <td>76.6</td>\n",
       "      <td>1.55</td>\n",
       "      <td>5080</td>\n",
       "    </tr>\n",
       "    <tr>\n",
       "      <th>149</th>\n",
       "      <td>Timor-Leste</td>\n",
       "      <td>62.6</td>\n",
       "      <td>79.2000</td>\n",
       "      <td>328.3200</td>\n",
       "      <td>1000.800</td>\n",
       "      <td>1850</td>\n",
       "      <td>26.500</td>\n",
       "      <td>71.1</td>\n",
       "      <td>6.23</td>\n",
       "      <td>3600</td>\n",
       "    </tr>\n",
       "    <tr>\n",
       "      <th>150</th>\n",
       "      <td>Togo</td>\n",
       "      <td>90.3</td>\n",
       "      <td>196.1760</td>\n",
       "      <td>37.3320</td>\n",
       "      <td>279.624</td>\n",
       "      <td>1210</td>\n",
       "      <td>1.180</td>\n",
       "      <td>58.7</td>\n",
       "      <td>4.87</td>\n",
       "      <td>488</td>\n",
       "    </tr>\n",
       "    <tr>\n",
       "      <th>151</th>\n",
       "      <td>Tonga</td>\n",
       "      <td>17.4</td>\n",
       "      <td>440.2000</td>\n",
       "      <td>179.9850</td>\n",
       "      <td>2140.650</td>\n",
       "      <td>4980</td>\n",
       "      <td>3.680</td>\n",
       "      <td>69.9</td>\n",
       "      <td>3.91</td>\n",
       "      <td>3550</td>\n",
       "    </tr>\n",
       "    <tr>\n",
       "      <th>152</th>\n",
       "      <td>Tunisia</td>\n",
       "      <td>17.4</td>\n",
       "      <td>2090.7000</td>\n",
       "      <td>257.0940</td>\n",
       "      <td>2289.420</td>\n",
       "      <td>10400</td>\n",
       "      <td>3.820</td>\n",
       "      <td>76.9</td>\n",
       "      <td>2.14</td>\n",
       "      <td>4140</td>\n",
       "    </tr>\n",
       "    <tr>\n",
       "      <th>153</th>\n",
       "      <td>Turkey</td>\n",
       "      <td>19.1</td>\n",
       "      <td>2182.8000</td>\n",
       "      <td>721.1800</td>\n",
       "      <td>2728.500</td>\n",
       "      <td>18000</td>\n",
       "      <td>7.010</td>\n",
       "      <td>78.2</td>\n",
       "      <td>2.15</td>\n",
       "      <td>10700</td>\n",
       "    </tr>\n",
       "    <tr>\n",
       "      <th>154</th>\n",
       "      <td>Turkmenistan</td>\n",
       "      <td>62.0</td>\n",
       "      <td>3387.7200</td>\n",
       "      <td>111.0000</td>\n",
       "      <td>1975.800</td>\n",
       "      <td>9940</td>\n",
       "      <td>2.310</td>\n",
       "      <td>67.9</td>\n",
       "      <td>2.83</td>\n",
       "      <td>4440</td>\n",
       "    </tr>\n",
       "    <tr>\n",
       "      <th>155</th>\n",
       "      <td>Uganda</td>\n",
       "      <td>81.0</td>\n",
       "      <td>101.7450</td>\n",
       "      <td>53.6095</td>\n",
       "      <td>170.170</td>\n",
       "      <td>1540</td>\n",
       "      <td>10.600</td>\n",
       "      <td>56.8</td>\n",
       "      <td>6.15</td>\n",
       "      <td>595</td>\n",
       "    </tr>\n",
       "    <tr>\n",
       "      <th>156</th>\n",
       "      <td>Ukraine</td>\n",
       "      <td>11.7</td>\n",
       "      <td>1398.8700</td>\n",
       "      <td>229.2840</td>\n",
       "      <td>1517.670</td>\n",
       "      <td>7820</td>\n",
       "      <td>13.400</td>\n",
       "      <td>70.4</td>\n",
       "      <td>1.44</td>\n",
       "      <td>2970</td>\n",
       "    </tr>\n",
       "    <tr>\n",
       "      <th>157</th>\n",
       "      <td>United Arab Emirates</td>\n",
       "      <td>8.6</td>\n",
       "      <td>27195.0000</td>\n",
       "      <td>1281.0000</td>\n",
       "      <td>22260.000</td>\n",
       "      <td>57600</td>\n",
       "      <td>12.500</td>\n",
       "      <td>76.5</td>\n",
       "      <td>1.87</td>\n",
       "      <td>35000</td>\n",
       "    </tr>\n",
       "    <tr>\n",
       "      <th>158</th>\n",
       "      <td>United Kingdom</td>\n",
       "      <td>5.2</td>\n",
       "      <td>10969.8000</td>\n",
       "      <td>3749.9600</td>\n",
       "      <td>11981.200</td>\n",
       "      <td>36200</td>\n",
       "      <td>1.570</td>\n",
       "      <td>80.3</td>\n",
       "      <td>1.92</td>\n",
       "      <td>38900</td>\n",
       "    </tr>\n",
       "    <tr>\n",
       "      <th>159</th>\n",
       "      <td>United States</td>\n",
       "      <td>7.3</td>\n",
       "      <td>6001.6000</td>\n",
       "      <td>8663.6000</td>\n",
       "      <td>7647.200</td>\n",
       "      <td>49400</td>\n",
       "      <td>1.220</td>\n",
       "      <td>78.7</td>\n",
       "      <td>1.93</td>\n",
       "      <td>48400</td>\n",
       "    </tr>\n",
       "    <tr>\n",
       "      <th>160</th>\n",
       "      <td>Uruguay</td>\n",
       "      <td>10.6</td>\n",
       "      <td>3129.7000</td>\n",
       "      <td>993.6500</td>\n",
       "      <td>3022.600</td>\n",
       "      <td>17100</td>\n",
       "      <td>4.910</td>\n",
       "      <td>76.4</td>\n",
       "      <td>2.08</td>\n",
       "      <td>11900</td>\n",
       "    </tr>\n",
       "    <tr>\n",
       "      <th>161</th>\n",
       "      <td>Uzbekistan</td>\n",
       "      <td>36.3</td>\n",
       "      <td>437.4600</td>\n",
       "      <td>80.1780</td>\n",
       "      <td>393.300</td>\n",
       "      <td>4240</td>\n",
       "      <td>16.500</td>\n",
       "      <td>68.8</td>\n",
       "      <td>2.34</td>\n",
       "      <td>1380</td>\n",
       "    </tr>\n",
       "    <tr>\n",
       "      <th>162</th>\n",
       "      <td>Vanuatu</td>\n",
       "      <td>29.2</td>\n",
       "      <td>1384.0200</td>\n",
       "      <td>155.9250</td>\n",
       "      <td>1565.190</td>\n",
       "      <td>2950</td>\n",
       "      <td>2.620</td>\n",
       "      <td>63.0</td>\n",
       "      <td>3.50</td>\n",
       "      <td>2970</td>\n",
       "    </tr>\n",
       "    <tr>\n",
       "      <th>163</th>\n",
       "      <td>Venezuela</td>\n",
       "      <td>17.1</td>\n",
       "      <td>3847.5000</td>\n",
       "      <td>662.8500</td>\n",
       "      <td>2376.000</td>\n",
       "      <td>16500</td>\n",
       "      <td>45.900</td>\n",
       "      <td>75.4</td>\n",
       "      <td>2.47</td>\n",
       "      <td>13500</td>\n",
       "    </tr>\n",
       "    <tr>\n",
       "      <th>164</th>\n",
       "      <td>Vietnam</td>\n",
       "      <td>23.3</td>\n",
       "      <td>943.2000</td>\n",
       "      <td>89.6040</td>\n",
       "      <td>1050.620</td>\n",
       "      <td>4490</td>\n",
       "      <td>12.100</td>\n",
       "      <td>73.1</td>\n",
       "      <td>1.95</td>\n",
       "      <td>1310</td>\n",
       "    </tr>\n",
       "    <tr>\n",
       "      <th>165</th>\n",
       "      <td>Yemen</td>\n",
       "      <td>56.3</td>\n",
       "      <td>393.0000</td>\n",
       "      <td>67.8580</td>\n",
       "      <td>450.640</td>\n",
       "      <td>4480</td>\n",
       "      <td>23.600</td>\n",
       "      <td>67.5</td>\n",
       "      <td>4.67</td>\n",
       "      <td>1310</td>\n",
       "    </tr>\n",
       "    <tr>\n",
       "      <th>166</th>\n",
       "      <td>Zambia</td>\n",
       "      <td>83.1</td>\n",
       "      <td>540.2000</td>\n",
       "      <td>85.9940</td>\n",
       "      <td>451.140</td>\n",
       "      <td>3280</td>\n",
       "      <td>14.000</td>\n",
       "      <td>52.0</td>\n",
       "      <td>5.40</td>\n",
       "      <td>1460</td>\n",
       "    </tr>\n",
       "  </tbody>\n",
       "</table>\n",
       "<p>167 rows × 10 columns</p>\n",
       "</div>"
      ],
      "text/plain": [
       "                            country  child_mort     exports     health  \\\n",
       "0                       Afghanistan        90.2     55.3000    41.9174   \n",
       "1                           Albania        16.6   1145.2000   267.8950   \n",
       "2                           Algeria        27.3   1712.6400   185.9820   \n",
       "3                            Angola       119.0   2199.1900   100.6050   \n",
       "4               Antigua and Barbuda        10.3   5551.0000   735.6600   \n",
       "5                         Argentina        14.5   1946.7000   834.3000   \n",
       "6                           Armenia        18.1    669.7600   141.6800   \n",
       "7                         Australia         4.8  10276.2000  4530.8700   \n",
       "8                           Austria         4.3  24059.7000  5159.0000   \n",
       "9                        Azerbaijan        39.2   3171.1200   343.3920   \n",
       "10                          Bahamas        13.8   9800.0000  2209.2000   \n",
       "11                          Bahrain         8.6  14386.5000  1028.7900   \n",
       "12                       Bangladesh        49.4    121.2800    26.6816   \n",
       "13                         Barbados        14.2   6320.0000  1275.2000   \n",
       "14                          Belarus         5.5   3099.4200   338.2830   \n",
       "15                          Belgium         4.5  33921.6000  4750.8000   \n",
       "16                           Belize        18.8   2525.8800   225.6800   \n",
       "17                            Benin       111.0    180.4040    31.0780   \n",
       "18                           Bhutan        42.7    926.5000   113.3600   \n",
       "19                          Bolivia        46.6    815.7600    95.8320   \n",
       "20           Bosnia and Herzegovina         6.9   1369.1700   511.7100   \n",
       "21                         Botswana        52.5   2768.6000   527.0500   \n",
       "22                           Brazil        19.8   1198.4000  1009.1200   \n",
       "23                           Brunei        10.5  23792.2000  1002.5200   \n",
       "24                         Bulgaria        10.8   3433.6800   469.9080   \n",
       "25                     Burkina Faso       116.0    110.4000    38.7550   \n",
       "26                          Burundi        93.6     20.6052    26.7960   \n",
       "27                         Cambodia        44.4    425.2260    44.6448   \n",
       "28                         Cameroon       108.0    290.8200    67.2030   \n",
       "29                           Canada         5.6  13793.4000  5356.2000   \n",
       "..                              ...         ...         ...        ...   \n",
       "137                    South Africa        53.7   2082.0800   650.8320   \n",
       "138                     South Korea         4.1  10917.4000  1531.5300   \n",
       "139                           Spain         3.8   7828.5000  2928.7800   \n",
       "140                       Sri Lanka        11.2    550.7600    82.6140   \n",
       "141  St. Vincent and the Grenadines        20.7   1675.8700   278.4810   \n",
       "142                           Sudan        76.7    291.5600    93.5360   \n",
       "143                        Suriname        24.1   4357.5000   581.8300   \n",
       "144                          Sweden         3.0  24070.2000  5017.2300   \n",
       "145                     Switzerland         4.5  47744.0000  8579.0000   \n",
       "146                      Tajikistan        52.4    109.9620    44.1324   \n",
       "147                        Tanzania        71.9    131.2740    42.1902   \n",
       "148                        Thailand        14.9   3378.2000   197.1040   \n",
       "149                     Timor-Leste        62.6     79.2000   328.3200   \n",
       "150                            Togo        90.3    196.1760    37.3320   \n",
       "151                           Tonga        17.4    440.2000   179.9850   \n",
       "152                         Tunisia        17.4   2090.7000   257.0940   \n",
       "153                          Turkey        19.1   2182.8000   721.1800   \n",
       "154                    Turkmenistan        62.0   3387.7200   111.0000   \n",
       "155                          Uganda        81.0    101.7450    53.6095   \n",
       "156                         Ukraine        11.7   1398.8700   229.2840   \n",
       "157            United Arab Emirates         8.6  27195.0000  1281.0000   \n",
       "158                  United Kingdom         5.2  10969.8000  3749.9600   \n",
       "159                   United States         7.3   6001.6000  8663.6000   \n",
       "160                         Uruguay        10.6   3129.7000   993.6500   \n",
       "161                      Uzbekistan        36.3    437.4600    80.1780   \n",
       "162                         Vanuatu        29.2   1384.0200   155.9250   \n",
       "163                       Venezuela        17.1   3847.5000   662.8500   \n",
       "164                         Vietnam        23.3    943.2000    89.6040   \n",
       "165                           Yemen        56.3    393.0000    67.8580   \n",
       "166                          Zambia        83.1    540.2000    85.9940   \n",
       "\n",
       "       imports  income  inflation  life_expec  total_fer   gdpp  \n",
       "0      248.297    1610      9.440        56.2       5.82    553  \n",
       "1     1987.740    9930      4.490        76.3       1.65   4090  \n",
       "2     1400.440   12900     16.100        76.5       2.89   4460  \n",
       "3     1514.370    5900     22.400        60.1       6.16   3530  \n",
       "4     7185.800   19100      1.440        76.8       2.13  12200  \n",
       "5     1648.000   18700     20.900        75.8       2.37  10300  \n",
       "6     1458.660    6700      7.770        73.3       1.69   3220  \n",
       "7    10847.100   41400      1.160        82.0       1.93  51900  \n",
       "8    22418.200   43200      0.873        80.5       1.44  46900  \n",
       "9     1208.880   16000     13.800        69.1       1.92   5840  \n",
       "10   12236.000   22900     -0.393        73.8       1.86  28000  \n",
       "11   10536.300   41100      7.440        76.0       2.16  20700  \n",
       "12     165.244    2440      7.140        70.4       2.33    758  \n",
       "13    7792.000   15300      0.321        76.7       1.78  16000  \n",
       "14    3889.350   16200     15.100        70.4       1.49   6030  \n",
       "15   33166.800   41100      1.880        80.0       1.86  44400  \n",
       "16    2495.500    7880      1.140        71.4       2.71   4340  \n",
       "17     281.976    1820      0.885        61.8       5.36    758  \n",
       "18    1541.260    6420      5.990        72.1       2.38   2180  \n",
       "19     679.140    5410      8.780        71.6       3.20   1980  \n",
       "20    2364.930    9720      1.400        76.8       1.31   4610  \n",
       "21    3257.550   13300      8.920        57.1       2.88   6350  \n",
       "22    1321.600   14500      8.410        74.2       1.80  11200  \n",
       "23    9884.000   80600     16.700        77.1       1.84  35300  \n",
       "24    3625.200   15300      1.110        73.9       1.57   6840  \n",
       "25     170.200    1430      6.810        57.9       5.87    575  \n",
       "26      90.552     764     12.300        57.7       6.26    231  \n",
       "27     467.670    2520      3.120        66.1       2.88    786  \n",
       "28     353.700    2660      1.910        57.3       5.11   1310  \n",
       "29   14694.000   40700      2.870        81.3       1.63  47400  \n",
       "..         ...     ...        ...         ...        ...    ...  \n",
       "137   1994.720   12000      6.350        54.3       2.59   7280  \n",
       "138  10210.200   30400      3.160        80.1       1.23  22100  \n",
       "139   8227.600   32500      0.160        81.9       1.37  30700  \n",
       "140    753.080    8560     22.800        74.4       2.20   2810  \n",
       "141   3557.330    9920      4.440        71.6       2.07   6230  \n",
       "142    254.560    3370     19.600        66.3       4.88   1480  \n",
       "143   3187.200   14200      7.200        70.3       2.52   8300  \n",
       "144  21204.700   42900      0.991        81.5       1.98  52100  \n",
       "145  39761.800   55500      0.317        82.2       1.52  74600  \n",
       "146    432.468    2110     12.500        69.6       3.51    738  \n",
       "147    204.282    2090      9.250        59.3       5.43    702  \n",
       "148   3088.640   13500      4.080        76.6       1.55   5080  \n",
       "149   1000.800    1850     26.500        71.1       6.23   3600  \n",
       "150    279.624    1210      1.180        58.7       4.87    488  \n",
       "151   2140.650    4980      3.680        69.9       3.91   3550  \n",
       "152   2289.420   10400      3.820        76.9       2.14   4140  \n",
       "153   2728.500   18000      7.010        78.2       2.15  10700  \n",
       "154   1975.800    9940      2.310        67.9       2.83   4440  \n",
       "155    170.170    1540     10.600        56.8       6.15    595  \n",
       "156   1517.670    7820     13.400        70.4       1.44   2970  \n",
       "157  22260.000   57600     12.500        76.5       1.87  35000  \n",
       "158  11981.200   36200      1.570        80.3       1.92  38900  \n",
       "159   7647.200   49400      1.220        78.7       1.93  48400  \n",
       "160   3022.600   17100      4.910        76.4       2.08  11900  \n",
       "161    393.300    4240     16.500        68.8       2.34   1380  \n",
       "162   1565.190    2950      2.620        63.0       3.50   2970  \n",
       "163   2376.000   16500     45.900        75.4       2.47  13500  \n",
       "164   1050.620    4490     12.100        73.1       1.95   1310  \n",
       "165    450.640    4480     23.600        67.5       4.67   1310  \n",
       "166    451.140    3280     14.000        52.0       5.40   1460  \n",
       "\n",
       "[167 rows x 10 columns]"
      ]
     },
     "execution_count": 517,
     "metadata": {},
     "output_type": "execute_result"
    }
   ],
   "source": [
    "data = pd.read_csv(\"Country-data.csv\")\n",
    "\n",
    "# Need to convert below columns exports,health,imports to absolute values\n",
    "\n",
    "data['exports']=(data['exports']/100)*data['gdpp']\n",
    "data['health']=(data['health']/100)*data['gdpp']\n",
    "data['imports']=(data['imports']/100)*data['gdpp']\n",
    "data"
   ]
  },
  {
   "cell_type": "code",
   "execution_count": 518,
   "metadata": {
    "scrolled": true
   },
   "outputs": [
    {
     "name": "stdout",
     "output_type": "stream",
     "text": [
      "<class 'pandas.core.frame.DataFrame'>\n",
      "RangeIndex: 167 entries, 0 to 166\n",
      "Data columns (total 10 columns):\n",
      "country       167 non-null object\n",
      "child_mort    167 non-null float64\n",
      "exports       167 non-null float64\n",
      "health        167 non-null float64\n",
      "imports       167 non-null float64\n",
      "income        167 non-null int64\n",
      "inflation     167 non-null float64\n",
      "life_expec    167 non-null float64\n",
      "total_fer     167 non-null float64\n",
      "gdpp          167 non-null int64\n",
      "dtypes: float64(7), int64(2), object(1)\n",
      "memory usage: 13.1+ KB\n"
     ]
    }
   ],
   "source": [
    "# Check for info\n",
    "data.info()"
   ]
  },
  {
   "cell_type": "code",
   "execution_count": 519,
   "metadata": {},
   "outputs": [
    {
     "data": {
      "text/plain": [
       "country       0\n",
       "child_mort    0\n",
       "exports       0\n",
       "health        0\n",
       "imports       0\n",
       "income        0\n",
       "inflation     0\n",
       "life_expec    0\n",
       "total_fer     0\n",
       "gdpp          0\n",
       "dtype: int64"
      ]
     },
     "execution_count": 519,
     "metadata": {},
     "output_type": "execute_result"
    }
   ],
   "source": [
    "# Check for missing values\n",
    "data.isnull().sum()"
   ]
  },
  {
   "cell_type": "code",
   "execution_count": 520,
   "metadata": {},
   "outputs": [
    {
     "data": {
      "text/plain": [
       "(167, 10)"
      ]
     },
     "execution_count": 520,
     "metadata": {},
     "output_type": "execute_result"
    }
   ],
   "source": [
    "# data shape\n",
    "data.shape"
   ]
  },
  {
   "cell_type": "code",
   "execution_count": 521,
   "metadata": {},
   "outputs": [
    {
     "data": {
      "text/html": [
       "<div>\n",
       "<style scoped>\n",
       "    .dataframe tbody tr th:only-of-type {\n",
       "        vertical-align: middle;\n",
       "    }\n",
       "\n",
       "    .dataframe tbody tr th {\n",
       "        vertical-align: top;\n",
       "    }\n",
       "\n",
       "    .dataframe thead th {\n",
       "        text-align: right;\n",
       "    }\n",
       "</style>\n",
       "<table border=\"1\" class=\"dataframe\">\n",
       "  <thead>\n",
       "    <tr style=\"text-align: right;\">\n",
       "      <th></th>\n",
       "      <th>child_mort</th>\n",
       "      <th>exports</th>\n",
       "      <th>health</th>\n",
       "      <th>imports</th>\n",
       "      <th>income</th>\n",
       "      <th>inflation</th>\n",
       "      <th>life_expec</th>\n",
       "      <th>total_fer</th>\n",
       "      <th>gdpp</th>\n",
       "    </tr>\n",
       "  </thead>\n",
       "  <tbody>\n",
       "    <tr>\n",
       "      <th>count</th>\n",
       "      <td>167.000000</td>\n",
       "      <td>167.000000</td>\n",
       "      <td>167.000000</td>\n",
       "      <td>167.000000</td>\n",
       "      <td>167.000000</td>\n",
       "      <td>167.000000</td>\n",
       "      <td>167.000000</td>\n",
       "      <td>167.000000</td>\n",
       "      <td>167.000000</td>\n",
       "    </tr>\n",
       "    <tr>\n",
       "      <th>mean</th>\n",
       "      <td>38.270060</td>\n",
       "      <td>7420.618847</td>\n",
       "      <td>1056.733204</td>\n",
       "      <td>6588.352108</td>\n",
       "      <td>17144.688623</td>\n",
       "      <td>7.781832</td>\n",
       "      <td>70.555689</td>\n",
       "      <td>2.947964</td>\n",
       "      <td>12964.155689</td>\n",
       "    </tr>\n",
       "    <tr>\n",
       "      <th>std</th>\n",
       "      <td>40.328931</td>\n",
       "      <td>17973.885795</td>\n",
       "      <td>1801.408906</td>\n",
       "      <td>14710.810418</td>\n",
       "      <td>19278.067698</td>\n",
       "      <td>10.570704</td>\n",
       "      <td>8.893172</td>\n",
       "      <td>1.513848</td>\n",
       "      <td>18328.704809</td>\n",
       "    </tr>\n",
       "    <tr>\n",
       "      <th>min</th>\n",
       "      <td>2.600000</td>\n",
       "      <td>1.076920</td>\n",
       "      <td>12.821200</td>\n",
       "      <td>0.651092</td>\n",
       "      <td>609.000000</td>\n",
       "      <td>-4.210000</td>\n",
       "      <td>32.100000</td>\n",
       "      <td>1.150000</td>\n",
       "      <td>231.000000</td>\n",
       "    </tr>\n",
       "    <tr>\n",
       "      <th>25%</th>\n",
       "      <td>8.250000</td>\n",
       "      <td>447.140000</td>\n",
       "      <td>78.535500</td>\n",
       "      <td>640.215000</td>\n",
       "      <td>3355.000000</td>\n",
       "      <td>1.810000</td>\n",
       "      <td>65.300000</td>\n",
       "      <td>1.795000</td>\n",
       "      <td>1330.000000</td>\n",
       "    </tr>\n",
       "    <tr>\n",
       "      <th>50%</th>\n",
       "      <td>19.300000</td>\n",
       "      <td>1777.440000</td>\n",
       "      <td>321.886000</td>\n",
       "      <td>2045.580000</td>\n",
       "      <td>9960.000000</td>\n",
       "      <td>5.390000</td>\n",
       "      <td>73.100000</td>\n",
       "      <td>2.410000</td>\n",
       "      <td>4660.000000</td>\n",
       "    </tr>\n",
       "    <tr>\n",
       "      <th>75%</th>\n",
       "      <td>62.100000</td>\n",
       "      <td>7278.000000</td>\n",
       "      <td>976.940000</td>\n",
       "      <td>7719.600000</td>\n",
       "      <td>22800.000000</td>\n",
       "      <td>10.750000</td>\n",
       "      <td>76.800000</td>\n",
       "      <td>3.880000</td>\n",
       "      <td>14050.000000</td>\n",
       "    </tr>\n",
       "    <tr>\n",
       "      <th>max</th>\n",
       "      <td>208.000000</td>\n",
       "      <td>183750.000000</td>\n",
       "      <td>8663.600000</td>\n",
       "      <td>149100.000000</td>\n",
       "      <td>125000.000000</td>\n",
       "      <td>104.000000</td>\n",
       "      <td>82.800000</td>\n",
       "      <td>7.490000</td>\n",
       "      <td>105000.000000</td>\n",
       "    </tr>\n",
       "  </tbody>\n",
       "</table>\n",
       "</div>"
      ],
      "text/plain": [
       "       child_mort        exports       health        imports         income  \\\n",
       "count  167.000000     167.000000   167.000000     167.000000     167.000000   \n",
       "mean    38.270060    7420.618847  1056.733204    6588.352108   17144.688623   \n",
       "std     40.328931   17973.885795  1801.408906   14710.810418   19278.067698   \n",
       "min      2.600000       1.076920    12.821200       0.651092     609.000000   \n",
       "25%      8.250000     447.140000    78.535500     640.215000    3355.000000   \n",
       "50%     19.300000    1777.440000   321.886000    2045.580000    9960.000000   \n",
       "75%     62.100000    7278.000000   976.940000    7719.600000   22800.000000   \n",
       "max    208.000000  183750.000000  8663.600000  149100.000000  125000.000000   \n",
       "\n",
       "        inflation  life_expec   total_fer           gdpp  \n",
       "count  167.000000  167.000000  167.000000     167.000000  \n",
       "mean     7.781832   70.555689    2.947964   12964.155689  \n",
       "std     10.570704    8.893172    1.513848   18328.704809  \n",
       "min     -4.210000   32.100000    1.150000     231.000000  \n",
       "25%      1.810000   65.300000    1.795000    1330.000000  \n",
       "50%      5.390000   73.100000    2.410000    4660.000000  \n",
       "75%     10.750000   76.800000    3.880000   14050.000000  \n",
       "max    104.000000   82.800000    7.490000  105000.000000  "
      ]
     },
     "execution_count": 521,
     "metadata": {},
     "output_type": "execute_result"
    }
   ],
   "source": [
    "data.describe()"
   ]
  },
  {
   "cell_type": "code",
   "execution_count": 522,
   "metadata": {},
   "outputs": [
    {
     "data": {
      "text/html": [
       "<div>\n",
       "<style scoped>\n",
       "    .dataframe tbody tr th:only-of-type {\n",
       "        vertical-align: middle;\n",
       "    }\n",
       "\n",
       "    .dataframe tbody tr th {\n",
       "        vertical-align: top;\n",
       "    }\n",
       "\n",
       "    .dataframe thead th {\n",
       "        text-align: right;\n",
       "    }\n",
       "</style>\n",
       "<table border=\"1\" class=\"dataframe\">\n",
       "  <thead>\n",
       "    <tr style=\"text-align: right;\">\n",
       "      <th></th>\n",
       "      <th>child_mort</th>\n",
       "      <th>exports</th>\n",
       "      <th>health</th>\n",
       "      <th>imports</th>\n",
       "      <th>income</th>\n",
       "      <th>inflation</th>\n",
       "      <th>life_expec</th>\n",
       "      <th>total_fer</th>\n",
       "      <th>gdpp</th>\n",
       "    </tr>\n",
       "  </thead>\n",
       "  <tbody>\n",
       "    <tr>\n",
       "      <th>0</th>\n",
       "      <td>90.2</td>\n",
       "      <td>55.30</td>\n",
       "      <td>41.9174</td>\n",
       "      <td>248.297</td>\n",
       "      <td>1610</td>\n",
       "      <td>9.44</td>\n",
       "      <td>56.2</td>\n",
       "      <td>5.82</td>\n",
       "      <td>553</td>\n",
       "    </tr>\n",
       "    <tr>\n",
       "      <th>1</th>\n",
       "      <td>16.6</td>\n",
       "      <td>1145.20</td>\n",
       "      <td>267.8950</td>\n",
       "      <td>1987.740</td>\n",
       "      <td>9930</td>\n",
       "      <td>4.49</td>\n",
       "      <td>76.3</td>\n",
       "      <td>1.65</td>\n",
       "      <td>4090</td>\n",
       "    </tr>\n",
       "    <tr>\n",
       "      <th>2</th>\n",
       "      <td>27.3</td>\n",
       "      <td>1712.64</td>\n",
       "      <td>185.9820</td>\n",
       "      <td>1400.440</td>\n",
       "      <td>12900</td>\n",
       "      <td>16.10</td>\n",
       "      <td>76.5</td>\n",
       "      <td>2.89</td>\n",
       "      <td>4460</td>\n",
       "    </tr>\n",
       "    <tr>\n",
       "      <th>3</th>\n",
       "      <td>119.0</td>\n",
       "      <td>2199.19</td>\n",
       "      <td>100.6050</td>\n",
       "      <td>1514.370</td>\n",
       "      <td>5900</td>\n",
       "      <td>22.40</td>\n",
       "      <td>60.1</td>\n",
       "      <td>6.16</td>\n",
       "      <td>3530</td>\n",
       "    </tr>\n",
       "    <tr>\n",
       "      <th>4</th>\n",
       "      <td>10.3</td>\n",
       "      <td>5551.00</td>\n",
       "      <td>735.6600</td>\n",
       "      <td>7185.800</td>\n",
       "      <td>19100</td>\n",
       "      <td>1.44</td>\n",
       "      <td>76.8</td>\n",
       "      <td>2.13</td>\n",
       "      <td>12200</td>\n",
       "    </tr>\n",
       "  </tbody>\n",
       "</table>\n",
       "</div>"
      ],
      "text/plain": [
       "   child_mort  exports    health   imports  income  inflation  life_expec  \\\n",
       "0        90.2    55.30   41.9174   248.297    1610       9.44        56.2   \n",
       "1        16.6  1145.20  267.8950  1987.740    9930       4.49        76.3   \n",
       "2        27.3  1712.64  185.9820  1400.440   12900      16.10        76.5   \n",
       "3       119.0  2199.19  100.6050  1514.370    5900      22.40        60.1   \n",
       "4        10.3  5551.00  735.6600  7185.800   19100       1.44        76.8   \n",
       "\n",
       "   total_fer   gdpp  \n",
       "0       5.82    553  \n",
       "1       1.65   4090  \n",
       "2       2.89   4460  \n",
       "3       6.16   3530  \n",
       "4       2.13  12200  "
      ]
     },
     "execution_count": 522,
     "metadata": {},
     "output_type": "execute_result"
    }
   ],
   "source": [
    "# Removing the country column\n",
    "y = data.pop(\"country\")\n",
    "data.head()"
   ]
  },
  {
   "cell_type": "code",
   "execution_count": 523,
   "metadata": {},
   "outputs": [
    {
     "data": {
      "text/html": [
       "<div>\n",
       "<style scoped>\n",
       "    .dataframe tbody tr th:only-of-type {\n",
       "        vertical-align: middle;\n",
       "    }\n",
       "\n",
       "    .dataframe tbody tr th {\n",
       "        vertical-align: top;\n",
       "    }\n",
       "\n",
       "    .dataframe thead th {\n",
       "        text-align: right;\n",
       "    }\n",
       "</style>\n",
       "<table border=\"1\" class=\"dataframe\">\n",
       "  <thead>\n",
       "    <tr style=\"text-align: right;\">\n",
       "      <th></th>\n",
       "      <th>child_mort</th>\n",
       "      <th>exports</th>\n",
       "      <th>health</th>\n",
       "      <th>imports</th>\n",
       "      <th>income</th>\n",
       "      <th>inflation</th>\n",
       "      <th>life_expec</th>\n",
       "      <th>total_fer</th>\n",
       "      <th>gdpp</th>\n",
       "    </tr>\n",
       "  </thead>\n",
       "  <tbody>\n",
       "    <tr>\n",
       "      <th>count</th>\n",
       "      <td>167.000000</td>\n",
       "      <td>167.000000</td>\n",
       "      <td>167.000000</td>\n",
       "      <td>167.000000</td>\n",
       "      <td>167.000000</td>\n",
       "      <td>167.000000</td>\n",
       "      <td>167.000000</td>\n",
       "      <td>167.000000</td>\n",
       "      <td>167.000000</td>\n",
       "    </tr>\n",
       "    <tr>\n",
       "      <th>mean</th>\n",
       "      <td>38.270060</td>\n",
       "      <td>7420.618847</td>\n",
       "      <td>1056.733204</td>\n",
       "      <td>6588.352108</td>\n",
       "      <td>17144.688623</td>\n",
       "      <td>7.781832</td>\n",
       "      <td>70.555689</td>\n",
       "      <td>2.947964</td>\n",
       "      <td>12964.155689</td>\n",
       "    </tr>\n",
       "    <tr>\n",
       "      <th>std</th>\n",
       "      <td>40.328931</td>\n",
       "      <td>17973.885795</td>\n",
       "      <td>1801.408906</td>\n",
       "      <td>14710.810418</td>\n",
       "      <td>19278.067698</td>\n",
       "      <td>10.570704</td>\n",
       "      <td>8.893172</td>\n",
       "      <td>1.513848</td>\n",
       "      <td>18328.704809</td>\n",
       "    </tr>\n",
       "    <tr>\n",
       "      <th>min</th>\n",
       "      <td>2.600000</td>\n",
       "      <td>1.076920</td>\n",
       "      <td>12.821200</td>\n",
       "      <td>0.651092</td>\n",
       "      <td>609.000000</td>\n",
       "      <td>-4.210000</td>\n",
       "      <td>32.100000</td>\n",
       "      <td>1.150000</td>\n",
       "      <td>231.000000</td>\n",
       "    </tr>\n",
       "    <tr>\n",
       "      <th>25%</th>\n",
       "      <td>8.250000</td>\n",
       "      <td>447.140000</td>\n",
       "      <td>78.535500</td>\n",
       "      <td>640.215000</td>\n",
       "      <td>3355.000000</td>\n",
       "      <td>1.810000</td>\n",
       "      <td>65.300000</td>\n",
       "      <td>1.795000</td>\n",
       "      <td>1330.000000</td>\n",
       "    </tr>\n",
       "    <tr>\n",
       "      <th>50%</th>\n",
       "      <td>19.300000</td>\n",
       "      <td>1777.440000</td>\n",
       "      <td>321.886000</td>\n",
       "      <td>2045.580000</td>\n",
       "      <td>9960.000000</td>\n",
       "      <td>5.390000</td>\n",
       "      <td>73.100000</td>\n",
       "      <td>2.410000</td>\n",
       "      <td>4660.000000</td>\n",
       "    </tr>\n",
       "    <tr>\n",
       "      <th>75%</th>\n",
       "      <td>62.100000</td>\n",
       "      <td>7278.000000</td>\n",
       "      <td>976.940000</td>\n",
       "      <td>7719.600000</td>\n",
       "      <td>22800.000000</td>\n",
       "      <td>10.750000</td>\n",
       "      <td>76.800000</td>\n",
       "      <td>3.880000</td>\n",
       "      <td>14050.000000</td>\n",
       "    </tr>\n",
       "    <tr>\n",
       "      <th>max</th>\n",
       "      <td>208.000000</td>\n",
       "      <td>183750.000000</td>\n",
       "      <td>8663.600000</td>\n",
       "      <td>149100.000000</td>\n",
       "      <td>125000.000000</td>\n",
       "      <td>104.000000</td>\n",
       "      <td>82.800000</td>\n",
       "      <td>7.490000</td>\n",
       "      <td>105000.000000</td>\n",
       "    </tr>\n",
       "  </tbody>\n",
       "</table>\n",
       "</div>"
      ],
      "text/plain": [
       "       child_mort        exports       health        imports         income  \\\n",
       "count  167.000000     167.000000   167.000000     167.000000     167.000000   \n",
       "mean    38.270060    7420.618847  1056.733204    6588.352108   17144.688623   \n",
       "std     40.328931   17973.885795  1801.408906   14710.810418   19278.067698   \n",
       "min      2.600000       1.076920    12.821200       0.651092     609.000000   \n",
       "25%      8.250000     447.140000    78.535500     640.215000    3355.000000   \n",
       "50%     19.300000    1777.440000   321.886000    2045.580000    9960.000000   \n",
       "75%     62.100000    7278.000000   976.940000    7719.600000   22800.000000   \n",
       "max    208.000000  183750.000000  8663.600000  149100.000000  125000.000000   \n",
       "\n",
       "        inflation  life_expec   total_fer           gdpp  \n",
       "count  167.000000  167.000000  167.000000     167.000000  \n",
       "mean     7.781832   70.555689    2.947964   12964.155689  \n",
       "std     10.570704    8.893172    1.513848   18328.704809  \n",
       "min     -4.210000   32.100000    1.150000     231.000000  \n",
       "25%      1.810000   65.300000    1.795000    1330.000000  \n",
       "50%      5.390000   73.100000    2.410000    4660.000000  \n",
       "75%     10.750000   76.800000    3.880000   14050.000000  \n",
       "max    104.000000   82.800000    7.490000  105000.000000  "
      ]
     },
     "execution_count": 523,
     "metadata": {},
     "output_type": "execute_result"
    }
   ],
   "source": [
    "data.describe()"
   ]
  },
  {
   "cell_type": "markdown",
   "metadata": {},
   "source": [
    "# Scaling"
   ]
  },
  {
   "cell_type": "code",
   "execution_count": 524,
   "metadata": {},
   "outputs": [],
   "source": [
    "# Import Standard scaling Library\n",
    "from sklearn.preprocessing import StandardScaler"
   ]
  },
  {
   "cell_type": "code",
   "execution_count": 525,
   "metadata": {},
   "outputs": [],
   "source": [
    "scaler = StandardScaler()"
   ]
  },
  {
   "cell_type": "code",
   "execution_count": 526,
   "metadata": {},
   "outputs": [],
   "source": [
    "X = data.copy()"
   ]
  },
  {
   "cell_type": "code",
   "execution_count": 527,
   "metadata": {},
   "outputs": [
    {
     "name": "stderr",
     "output_type": "stream",
     "text": [
      "C:\\Users\\dayan\\Anaconda3\\lib\\site-packages\\sklearn\\preprocessing\\data.py:645: DataConversionWarning: Data with input dtype int64, float64 were all converted to float64 by StandardScaler.\n",
      "  return self.partial_fit(X, y)\n",
      "C:\\Users\\dayan\\Anaconda3\\lib\\site-packages\\sklearn\\base.py:464: DataConversionWarning: Data with input dtype int64, float64 were all converted to float64 by StandardScaler.\n",
      "  return self.fit(X, **fit_params).transform(X)\n"
     ]
    }
   ],
   "source": [
    "x = scaler.fit_transform(X)"
   ]
  },
  {
   "cell_type": "code",
   "execution_count": 528,
   "metadata": {},
   "outputs": [
    {
     "data": {
      "text/plain": [
       "array([[ 1.29153238e+00, -4.11011304e-01, -5.65039889e-01,\n",
       "        -4.32275504e-01, -8.08245403e-01,  1.57336225e-01,\n",
       "        -1.61909203e+00,  1.90288227e+00, -6.79179609e-01],\n",
       "       [-5.38948897e-01, -3.50190960e-01, -4.39217688e-01,\n",
       "        -3.13677387e-01, -3.75368896e-01, -3.12347469e-01,\n",
       "         6.47866431e-01, -8.59972814e-01, -4.85623236e-01],\n",
       "       [-2.72832734e-01, -3.18525766e-01, -4.84826076e-01,\n",
       "        -3.53720478e-01, -2.20844469e-01,  7.89274285e-01,\n",
       "         6.70423231e-01, -3.84043958e-02, -4.65375609e-01],\n",
       "       [ 2.00780766e+00, -2.91374525e-01, -5.32363186e-01,\n",
       "        -3.45952541e-01, -5.85043454e-01,  1.38705353e+00,\n",
       "        -1.17923442e+00,  2.12815103e+00, -5.16268293e-01],\n",
       "       [-6.95634115e-01, -1.04331462e-01, -1.78770538e-01,\n",
       "         4.07349911e-02,  1.01731774e-01, -6.01748532e-01,\n",
       "         7.04258432e-01, -5.41946330e-01, -4.18171341e-02],\n",
       "       [-5.91177303e-01, -3.05464375e-01, -1.23848715e-01,\n",
       "        -3.36841425e-01,  8.09204035e-02,  1.24472514e+00,\n",
       "         5.91474429e-01, -3.82933087e-01, -1.45791437e-01],\n",
       "       [-5.01642893e-01, -3.76722224e-01, -5.09493013e-01,\n",
       "        -3.49750941e-01, -5.43420713e-01, -1.12271817e-03,\n",
       "         3.09514422e-01, -8.33470607e-01, -5.33232522e-01],\n",
       "       [-8.32422797e-01,  1.59351707e-01,  1.93436667e+00,\n",
       "         2.90368516e-01,  1.26196568e+00, -6.28316499e-01,\n",
       "         1.29073525e+00, -6.74457365e-01,  2.13069856e+00],\n",
       "       [-8.44858132e-01,  9.28520622e-01,  2.28410355e+00,\n",
       "         1.07930536e+00,  1.35561685e+00, -6.55548664e-01,\n",
       "         1.12155924e+00, -9.99109401e-01,  1.85708197e+00],\n",
       "       [ 2.31282334e-02, -2.37137332e-01, -3.97181669e-01,\n",
       "        -3.66781357e-01, -5.95563477e-02,  5.71037418e-01,\n",
       "        -1.64178390e-01, -6.81082917e-01, -3.89857431e-01]])"
      ]
     },
     "execution_count": 528,
     "metadata": {},
     "output_type": "execute_result"
    }
   ],
   "source": [
    "x[:10,:10]"
   ]
  },
  {
   "cell_type": "markdown",
   "metadata": {},
   "source": [
    "# Applying PCA on Data"
   ]
  },
  {
   "cell_type": "code",
   "execution_count": 529,
   "metadata": {},
   "outputs": [],
   "source": [
    "from sklearn.decomposition import PCA"
   ]
  },
  {
   "cell_type": "code",
   "execution_count": 530,
   "metadata": {},
   "outputs": [],
   "source": [
    "pca = PCA(svd_solver = 'randomized', random_state = 42)"
   ]
  },
  {
   "cell_type": "code",
   "execution_count": 531,
   "metadata": {},
   "outputs": [
    {
     "data": {
      "text/plain": [
       "PCA(copy=True, iterated_power='auto', n_components=None, random_state=42,\n",
       "  svd_solver='randomized', tol=0.0, whiten=False)"
      ]
     },
     "execution_count": 531,
     "metadata": {},
     "output_type": "execute_result"
    }
   ],
   "source": [
    "# pca.fit() performs PCa on data set\n",
    "pca.fit(x)"
   ]
  },
  {
   "cell_type": "code",
   "execution_count": 532,
   "metadata": {},
   "outputs": [
    {
     "data": {
      "text/plain": [
       "array([[-0.31639186,  0.34288671,  0.358535  ,  0.34486492,  0.38004113,\n",
       "        -0.14308531,  0.34385651, -0.30284224,  0.39998795],\n",
       "       [ 0.47626735,  0.39731091,  0.1550529 ,  0.37078075,  0.12838448,\n",
       "         0.22126089, -0.36981973,  0.4597152 ,  0.2006241 ],\n",
       "       [-0.15001225, -0.03057367, -0.07570322, -0.07217386,  0.14576421,\n",
       "         0.94841868,  0.19675173, -0.07783431,  0.01033941],\n",
       "       [-0.14805195,  0.44942527, -0.59971228,  0.46179779, -0.15480592,\n",
       "        -0.00762798, -0.01839465, -0.21392805, -0.36477239],\n",
       "       [ 0.1019948 , -0.03853829, -0.49319984, -0.2527867 ,  0.79407469,\n",
       "        -0.13642345, -0.15404105, -0.02033568,  0.08750149],\n",
       "       [ 0.19658519, -0.03891112,  0.18069888, -0.01217988, -0.03814681,\n",
       "         0.10840284, -0.58600986, -0.75390075,  0.04538167],\n",
       "       [ 0.76126725, -0.01366973, -0.06461567,  0.02718244, -0.02311312,\n",
       "        -0.02207663,  0.58120846, -0.27314534, -0.04402264],\n",
       "       [ 0.00644411, -0.05526371,  0.43007213,  0.1311355 ,  0.3938113 ,\n",
       "        -0.00607016,  0.002966  ,  0.03429334, -0.79902242],\n",
       "       [-0.00495137, -0.71792388, -0.13034593,  0.66568664,  0.07901102,\n",
       "         0.01128137, -0.03159406,  0.02368185,  0.12846398]])"
      ]
     },
     "execution_count": 532,
     "metadata": {},
     "output_type": "execute_result"
    }
   ],
   "source": [
    "# pricipal components are the new basis vectors special basis vectors\n",
    "pca.components_"
   ]
  },
  {
   "cell_type": "code",
   "execution_count": 533,
   "metadata": {},
   "outputs": [
    {
     "data": {
      "text/plain": [
       "array([0.58937298, 0.77382467, 0.87293939, 0.93366217, 0.96395389,\n",
       "       0.98855216, 0.9979496 , 0.99950602, 1.        ])"
      ]
     },
     "execution_count": 533,
     "metadata": {},
     "output_type": "execute_result"
    }
   ],
   "source": [
    "# explain which PCA's are important and which or not\n",
    "pca.explained_variance_ratio_.cumsum()\n"
   ]
  },
  {
   "cell_type": "code",
   "execution_count": 534,
   "metadata": {},
   "outputs": [],
   "source": [
    "var_cum = np.cumsum(pca.explained_variance_ratio_)"
   ]
  },
  {
   "cell_type": "code",
   "execution_count": 535,
   "metadata": {},
   "outputs": [
    {
     "data": {
      "image/png": "[encoded data removed]",
      "text/plain": [
       "<Figure size 864x576 with 1 Axes>"
      ]
     },
     "metadata": {
      "needs_background": "light"
     },
     "output_type": "display_data"
    }
   ],
   "source": [
    "fig = plt.figure(figsize=[12,8])\n",
    "plt.vlines(x=2, ymax=1, ymin=0, colors=\"r\", linestyles=\"--\")\n",
    "plt.hlines(y=0.87, xmax=10, xmin=0, colors=\"g\", linestyles=\"--\")\n",
    "plt.plot(var_cum)\n",
    "plt.ylabel(\"Cumulative variance explained\")\n",
    "plt.show()"
   ]
  },
  {
   "cell_type": "markdown",
   "metadata": {},
   "source": [
    "# 3 components are explaining 87% variance"
   ]
  },
  {
   "cell_type": "markdown",
   "metadata": {},
   "source": [
    "# PCA with 3 components"
   ]
  },
  {
   "cell_type": "code",
   "execution_count": 536,
   "metadata": {},
   "outputs": [],
   "source": [
    "from sklearn.decomposition import IncrementalPCA"
   ]
  },
  {
   "cell_type": "code",
   "execution_count": 537,
   "metadata": {},
   "outputs": [],
   "source": [
    "pca_final = IncrementalPCA(n_components=3)"
   ]
  },
  {
   "cell_type": "code",
   "execution_count": 538,
   "metadata": {},
   "outputs": [],
   "source": [
    "# do the fitting\n",
    "#Create the two components and \n",
    "# tranform is inverting - getting the inverse of the eigen vectors (principal components/ new basis and multiplying the data)\n",
    "new_data = pca_final.fit_transform(x)"
   ]
  },
  {
   "cell_type": "code",
   "execution_count": 539,
   "metadata": {},
   "outputs": [
    {
     "data": {
      "text/plain": [
       "(167, 3)"
      ]
     },
     "execution_count": 539,
     "metadata": {},
     "output_type": "execute_result"
    }
   ],
   "source": [
    "new_data.shape"
   ]
  },
  {
   "cell_type": "code",
   "execution_count": 540,
   "metadata": {},
   "outputs": [
    {
     "data": {
      "text/plain": [
       "array([[-2.63744157e+00,  1.46903797e+00, -5.41359106e-01],\n",
       "       [-2.22769569e-02, -1.43189586e+00, -2.07009539e-02],\n",
       "       [-4.57626261e-01, -6.73300938e-01,  9.61867281e-01],\n",
       "       [-2.72452030e+00,  2.17458267e+00,  6.06686548e-01],\n",
       "       [ 6.49848516e-01, -1.02437392e+00, -2.50102847e-01],\n",
       "       [ 3.71968554e-02, -6.80889086e-01,  1.46696276e+00],\n",
       "       [-3.32691520e-01, -1.27451685e+00,  1.76636110e-01],\n",
       "       [ 3.18036154e+00, -2.50784878e-01, -1.16877257e-01],\n",
       "       [ 3.81568156e+00,  2.56083499e-01, -2.70495294e-01],\n",
       "       [-4.67515152e-01, -4.93492360e-01,  6.03288028e-01],\n",
       "       [ 1.49875246e+00, -4.28907400e-01, -5.50237572e-01],\n",
       "       [ 1.47097104e+00, -3.26795693e-01,  4.28411771e-01],\n",
       "       [-1.01419903e+00, -7.11807758e-01, -1.16988551e-01],\n",
       "       [ 8.45238116e-01, -1.00860625e+00, -4.17261615e-01],\n",
       "       [-1.34473920e-02, -9.82186148e-01,  8.80913018e-01],\n",
       "       [ 3.96087770e+00,  8.38740841e-01, -2.94077196e-01],\n",
       "       [-4.02707071e-01, -9.21816189e-01, -5.04892363e-01],\n",
       "       [-2.36598657e+00,  1.16845951e+00, -1.23525716e+00],\n",
       "       [-7.14998191e-01, -7.68107039e-01, -1.34109127e-01],\n",
       "       [-1.01778054e+00, -4.26144387e-01,  5.16465672e-02],\n",
       "       [ 2.52812687e-01, -1.69696897e+00, -2.50836495e-01],\n",
       "       [-1.13095912e+00,  3.96783001e-01, -2.39304177e-01],\n",
       "       [ 1.66280202e-01, -1.01868043e+00,  2.76558220e-01],\n",
       "       [ 2.69525065e+00,  3.67356498e-01,  1.64616171e+00],\n",
       "       [ 2.80569006e-01, -1.32128913e+00, -3.24418990e-01],\n",
       "       [-2.75387449e+00,  1.66232785e+00, -8.38530674e-01],\n",
       "       [-2.76406823e+00,  1.62703825e+00, -2.89501749e-01],\n",
       "       [-1.17929406e+00, -4.93713667e-01, -5.79293325e-01],\n",
       "       [-2.44142939e+00,  1.28368238e+00, -1.21856998e+00],\n",
       "       [ 3.39411994e+00, -7.58855209e-02, -5.31210031e-02],\n",
       "       [-5.23229456e-01, -9.78047863e-01, -5.73628045e-01],\n",
       "       [-3.24153046e+00,  2.17133945e+00, -1.60432462e+00],\n",
       "       [-3.18889212e+00,  2.35227803e+00, -1.06346393e+00],\n",
       "       [ 6.92394286e-01, -1.11434707e+00,  4.97610946e-01],\n",
       "       [-1.28851026e-01, -1.36213540e+00,  1.69283810e-01],\n",
       "       [-1.38822916e-02, -1.29235162e+00, -9.14677579e-02],\n",
       "       [-1.94991207e+00,  6.04586951e-01, -7.68860274e-01],\n",
       "       [-3.11679859e+00,  2.17150462e+00,  3.65532243e-01],\n",
       "       [-2.04776384e+00,  1.08864497e+00,  7.15229292e-01],\n",
       "       [ 4.31523541e-01, -1.37262753e+00,  2.62061719e-01],\n",
       "       [-2.57476033e+00,  1.49393828e+00, -9.50191143e-01],\n",
       "       [ 8.46278142e-01, -1.26420905e+00, -2.67258861e-01],\n",
       "       [ 2.31379384e+00, -5.50247851e-01, -6.22654443e-02],\n",
       "       [ 1.67463303e+00, -8.68266683e-01, -4.36511824e-01],\n",
       "       [ 4.37600084e+00,  9.19899166e-01, -1.86529955e-01],\n",
       "       [-3.67788028e-01, -8.12993768e-01, -7.21568825e-02],\n",
       "       [-3.02658561e-01, -9.72557952e-01,  1.72477125e-01],\n",
       "       [-8.36646810e-01, -5.29582755e-01,  2.51857913e-01],\n",
       "       [-3.36572123e-01, -1.21747835e+00, -2.87803708e-01],\n",
       "       [-1.05577406e+00,  2.69689134e+00,  1.07364824e+00],\n",
       "       [-1.94848965e+00,  4.93517847e-01, -4.07068580e-02],\n",
       "       [ 1.06557915e+00, -9.24334486e-01, -2.02813828e-01],\n",
       "       [-7.62615708e-01, -5.81923630e-01, -3.87273966e-01],\n",
       "       [ 3.20148606e+00, -4.38651220e-03, -2.77573697e-01],\n",
       "       [ 2.89215450e+00, -3.07170794e-01, -2.12461353e-01],\n",
       "       [-1.28280191e+00,  8.50735122e-01,  5.22787837e-01],\n",
       "       [-2.10533591e+00,  8.25136769e-01, -7.45876298e-01],\n",
       "       [-3.60504965e-01, -1.16420904e+00,  2.22137822e-01],\n",
       "       [ 3.29930852e+00, -1.63475829e-01, -2.47480550e-01],\n",
       "       [-2.00241212e+00,  7.51898968e-01,  3.65803951e-01],\n",
       "       [ 1.93046755e+00, -1.02179786e+00, -1.97169128e-01],\n",
       "       [-8.55184899e-02, -1.03950060e+00, -5.13496872e-01],\n",
       "       [-8.57586524e-01, -5.35167576e-01, -2.38976872e-01],\n",
       "       [-2.71436749e+00,  1.61353038e+00,  3.81112147e-02],\n",
       "       [-2.61088220e+00,  1.40183125e+00, -1.19274761e+00],\n",
       "       [-9.32328908e-01, -4.32759786e-01, -3.12365847e-01],\n",
       "       [-3.94495955e+00,  3.02528124e+00, -1.79111113e+00],\n",
       "       [ 1.05201992e+00, -9.93622931e-01, -1.78986761e-01],\n",
       "       [ 3.10042218e+00,  1.66620534e-01,  1.95525454e-01],\n",
       "       [-1.26527648e+00, -2.73471726e-01, -7.93540516e-02],\n",
       "       [-8.42067437e-01, -5.64431036e-01,  7.04183140e-01],\n",
       "       [-7.83604357e-02, -9.71699050e-01,  1.01036952e+00],\n",
       "       [-1.19755535e+00,  3.66926553e-01,  6.77786697e-01],\n",
       "       [ 4.66106546e+00,  1.40673214e+00, -7.72706005e-01],\n",
       "       [ 1.78332399e+00, -3.98450266e-01, -1.29869769e-01],\n",
       "       [ 2.55301292e+00, -7.77100571e-01, -1.70574633e-01],\n",
       "       [-2.92488125e-01, -1.07098189e+00,  3.72733290e-01],\n",
       "       [ 2.85862023e+00, -8.79853187e-01, -3.49318688e-01],\n",
       "       [-5.21408157e-01, -6.37590059e-01,  2.09087479e-01],\n",
       "       [-3.56704385e-01, -2.21989984e-01,  1.16239312e+00],\n",
       "       [-1.73754907e+00,  2.80717075e-01, -8.73885085e-01],\n",
       "       [-1.66771576e+00,  2.32726872e-01, -9.70327191e-01],\n",
       "       [ 2.78022258e+00,  4.09049216e-01,  1.10198987e+00],\n",
       "       [-1.09060307e+00, -5.44824469e-01,  1.36468875e-01],\n",
       "       [-1.63798735e+00,  2.38587936e-01, -2.18411812e-01],\n",
       "       [ 6.66371378e-01, -1.21036568e+00, -4.98155603e-01],\n",
       "       [ 6.47380735e-01, -1.49788191e+00, -2.74720020e-01],\n",
       "       [-2.43643715e+00,  1.15330757e+00, -1.16893445e+00],\n",
       "       [-2.25920211e+00,  9.31943490e-01, -7.63506099e-01],\n",
       "       [ 4.92263179e-01, -5.17710053e-01,  9.54316810e-01],\n",
       "       [ 7.77907024e-01, -1.00439663e+00, -2.03252447e-01],\n",
       "       [ 1.26443457e+01,  8.26526585e+00, -7.44422522e-01],\n",
       "       [ 8.40286423e-02, -1.46663341e+00, -2.54533838e-01],\n",
       "       [-1.99719466e+00,  5.53843756e-01, -3.38949086e-01],\n",
       "       [-2.71099852e+00,  1.49439612e+00, -3.58971361e-01],\n",
       "       [ 4.27177521e-01, -8.46043967e-01,  2.58877823e-01],\n",
       "       [ 2.31409518e-01, -1.17916241e+00, -1.65173022e-01],\n",
       "       [-2.94714444e+00,  2.00852988e+00, -1.12382153e+00],\n",
       "       [ 2.63607678e+00,  8.71657993e-02, -8.06881075e-02],\n",
       "       [-2.11479497e+00,  1.04608272e+00,  5.93506195e-01],\n",
       "       [ 3.11350366e-01, -1.18393416e+00, -3.53340370e-01],\n",
       "       [-1.11560793e+00, -2.13157479e-01, -5.62427694e-01],\n",
       "       [-5.11219367e-01, -1.23132389e+00,  3.84380598e-01],\n",
       "       [-1.26831401e+00,  8.55486527e-02,  2.75680072e+00],\n",
       "       [ 3.55971705e-01, -1.40622589e+00, -2.37602576e-01],\n",
       "       [-5.46772119e-01, -9.78645302e-01, -5.21939515e-01],\n",
       "       [-2.73267720e+00,  1.54232048e+00, -7.76059664e-01],\n",
       "       [-1.26469403e+00, -3.58711858e-01, -2.54282073e-01],\n",
       "       [-1.33597288e+00,  4.12453164e-01, -7.61497045e-01],\n",
       "       [-1.25257966e+00, -4.03649867e-01,  5.38299132e-01],\n",
       "       [ 4.49434594e+00,  9.91137264e-01, -3.83121947e-01],\n",
       "       [ 2.20708488e+00, -4.60402508e-01,  4.02226753e-02],\n",
       "       [-3.06349475e+00,  2.10345193e+00, -1.29601270e+00],\n",
       "       [-3.93050805e+00,  3.84156564e+00,  7.86649100e+00],\n",
       "       [ 5.84225530e+00,  1.65077719e+00,  1.85810149e-01],\n",
       "       [ 1.05163942e+00, -2.80233805e-02,  1.19785090e+00],\n",
       "       [-1.86271903e+00,  5.66659012e-01, -1.04890743e-01],\n",
       "       [ 3.03027657e-01, -8.77558152e-01, -2.08919158e-01],\n",
       "       [-4.87602063e-01, -9.16197424e-01, -2.02154532e-02],\n",
       "       [-1.79908876e-01, -1.16141959e+00,  7.96190705e-02],\n",
       "       [-9.28957530e-01, -5.99764354e-01, -3.54198733e-01],\n",
       "       [ 8.54815190e-01, -1.28764989e+00, -1.69052042e-01],\n",
       "       [ 1.75954412e+00, -1.08887390e+00, -2.14430100e-01],\n",
       "       [ 5.12429969e+00,  1.44099979e+00,  1.17107078e+00],\n",
       "       [ 2.83523953e-01, -1.24324096e+00, -8.78695362e-02],\n",
       "       [ 1.41656293e-01, -7.97629457e-01,  8.19296842e-01],\n",
       "       [-1.74841079e+00,  2.58810274e-01, -8.07940722e-01],\n",
       "       [-8.48158634e-01, -4.91577438e-01, -5.34690531e-01],\n",
       "       [ 9.11234513e-01,  3.11483433e-02,  1.30178694e+00],\n",
       "       [-1.86271953e+00,  4.93654358e-01, -9.17758293e-01],\n",
       "       [ 1.86490508e-01, -1.43095062e+00,  1.18010625e-01],\n",
       "       [ 6.68231072e-01, -7.68133419e-01, -8.54486502e-01],\n",
       "       [-3.22704810e+00,  2.31622701e+00, -1.19591404e-01],\n",
       "       [ 6.58985925e+00,  2.94076381e+00, -3.37303856e-01],\n",
       "       [ 1.41044469e+00, -7.89309546e-01, -3.49240050e-01],\n",
       "       [ 2.04164022e+00, -7.26174703e-01, -3.97057843e-01],\n",
       "       [-1.51754777e+00,  1.42710226e-02, -3.57636331e-01],\n",
       "       [-1.17984717e+00,  3.49293570e-01, -5.33353823e-01],\n",
       "       [ 1.75633945e+00, -1.02229881e+00,  8.09814622e-02],\n",
       "       [ 2.24348215e+00, -1.00694393e+00, -1.77758596e-01],\n",
       "       [-5.44176127e-01, -9.44779352e-01,  1.57161816e+00],\n",
       "       [-2.25341201e-01, -9.85686904e-01, -1.73911064e-01],\n",
       "       [-2.01686997e+00,  8.51336401e-01,  6.97648281e-01],\n",
       "       [-1.97679055e-01, -5.67097461e-01,  3.35800779e-02],\n",
       "       [ 3.80597136e+00,  3.79849383e-01, -2.38743262e-01],\n",
       "       [ 6.26297409e+00,  1.85000963e+00, -4.76166618e-01],\n",
       "       [-1.37579894e+00, -1.63372836e-01,  2.77517846e-01],\n",
       "       [-2.27834344e+00,  1.00591556e+00, -3.97830215e-01],\n",
       "       [ 1.75003752e-01, -1.39783589e+00, -1.37076883e-02],\n",
       "       [-2.00654209e+00,  1.09209234e+00,  1.39169881e+00],\n",
       "       [-2.24527391e+00,  9.01384656e-01, -1.18666619e+00],\n",
       "       [-8.57094509e-01, -5.43222766e-01, -3.75027066e-01],\n",
       "       [-6.11326382e-02, -1.28052084e+00, -8.88316742e-02],\n",
       "       [ 3.28746959e-01, -1.06532901e+00,  2.66875043e-01],\n",
       "       [-8.95571886e-01, -1.91899504e-01, -6.22690182e-01],\n",
       "       [-2.62250045e+00,  1.46053612e+00, -4.03761119e-01],\n",
       "       [-3.71584511e-01, -1.15734667e+00,  6.51387502e-01],\n",
       "       [ 2.68935982e+00,  5.41214474e-01,  9.57821458e-01],\n",
       "       [ 2.60507653e+00, -3.74391523e-01, -1.46298882e-01],\n",
       "       [ 3.77973688e+00,  1.19298043e-01, -3.09117650e-01],\n",
       "       [ 4.56137111e-01, -1.09822863e+00,  4.89676824e-02],\n",
       "       [-1.03056343e+00, -5.62941401e-01,  7.43224331e-01],\n",
       "       [-1.17501897e+00, -2.81317390e-01, -6.70432664e-01],\n",
       "       [-3.11498487e-01, -6.68715525e-03,  3.65671155e+00],\n",
       "       [-5.92402161e-01, -1.07822432e+00,  5.10558163e-01],\n",
       "       [-1.80154125e+00,  5.90835071e-01,  1.17776563e+00],\n",
       "       [-2.64661126e+00,  1.56806633e+00, -1.74032291e-01]])"
      ]
     },
     "execution_count": 540,
     "metadata": {},
     "output_type": "execute_result"
    }
   ],
   "source": [
    "new_data"
   ]
  },
  {
   "cell_type": "code",
   "execution_count": 541,
   "metadata": {},
   "outputs": [],
   "source": [
    "corrmat = np.corrcoef(new_data.transpose())\n"
   ]
  },
  {
   "cell_type": "code",
   "execution_count": 542,
   "metadata": {},
   "outputs": [
    {
     "data": {
      "text/plain": [
       "(3, 3)"
      ]
     },
     "execution_count": 542,
     "metadata": {},
     "output_type": "execute_result"
    }
   ],
   "source": [
    "corrmat.shape"
   ]
  },
  {
   "cell_type": "code",
   "execution_count": 543,
   "metadata": {},
   "outputs": [
    {
     "data": {
      "text/plain": [
       "<matplotlib.axes._subplots.AxesSubplot at 0x2924a3149b0>"
      ]
     },
     "execution_count": 543,
     "metadata": {},
     "output_type": "execute_result"
    },
    {
     "data": {
      "image/png": "[encoded data removed]",
      "text/plain": [
       "<Figure size 1080x1080 with 2 Axes>"
      ]
     },
     "metadata": {
      "needs_background": "light"
     },
     "output_type": "display_data"
    }
   ],
   "source": [
    "# Plotting heat map on PCA components\n",
    "plt.figure(figsize=[15,15])\n",
    "sns.heatmap(corrmat, annot=True)"
   ]
  },
  {
   "cell_type": "markdown",
   "metadata": {},
   "source": [
    "Making data frame out of it for convenience"
   ]
  },
  {
   "cell_type": "code",
   "execution_count": 544,
   "metadata": {
    "scrolled": false
   },
   "outputs": [
    {
     "data": {
      "text/html": [
       "<div>\n",
       "<style scoped>\n",
       "    .dataframe tbody tr th:only-of-type {\n",
       "        vertical-align: middle;\n",
       "    }\n",
       "\n",
       "    .dataframe tbody tr th {\n",
       "        vertical-align: top;\n",
       "    }\n",
       "\n",
       "    .dataframe thead th {\n",
       "        text-align: right;\n",
       "    }\n",
       "</style>\n",
       "<table border=\"1\" class=\"dataframe\">\n",
       "  <thead>\n",
       "    <tr style=\"text-align: right;\">\n",
       "      <th></th>\n",
       "      <th>PC1</th>\n",
       "      <th>PC2</th>\n",
       "      <th>PC3</th>\n",
       "    </tr>\n",
       "  </thead>\n",
       "  <tbody>\n",
       "    <tr>\n",
       "      <th>0</th>\n",
       "      <td>-2.637442</td>\n",
       "      <td>1.469038</td>\n",
       "      <td>-0.541359</td>\n",
       "    </tr>\n",
       "    <tr>\n",
       "      <th>1</th>\n",
       "      <td>-0.022277</td>\n",
       "      <td>-1.431896</td>\n",
       "      <td>-0.020701</td>\n",
       "    </tr>\n",
       "    <tr>\n",
       "      <th>2</th>\n",
       "      <td>-0.457626</td>\n",
       "      <td>-0.673301</td>\n",
       "      <td>0.961867</td>\n",
       "    </tr>\n",
       "    <tr>\n",
       "      <th>3</th>\n",
       "      <td>-2.724520</td>\n",
       "      <td>2.174583</td>\n",
       "      <td>0.606687</td>\n",
       "    </tr>\n",
       "    <tr>\n",
       "      <th>4</th>\n",
       "      <td>0.649849</td>\n",
       "      <td>-1.024374</td>\n",
       "      <td>-0.250103</td>\n",
       "    </tr>\n",
       "  </tbody>\n",
       "</table>\n",
       "</div>"
      ],
      "text/plain": [
       "        PC1       PC2       PC3\n",
       "0 -2.637442  1.469038 -0.541359\n",
       "1 -0.022277 -1.431896 -0.020701\n",
       "2 -0.457626 -0.673301  0.961867\n",
       "3 -2.724520  2.174583  0.606687\n",
       "4  0.649849 -1.024374 -0.250103"
      ]
     },
     "execution_count": 544,
     "metadata": {},
     "output_type": "execute_result"
    }
   ],
   "source": [
    "pca_df = pd.DataFrame(new_data, columns=[\"PC1\", \"PC2\",\"PC3\"])\n",
    "pca_df.head()\n"
   ]
  },
  {
   "cell_type": "code",
   "execution_count": 545,
   "metadata": {},
   "outputs": [
    {
     "data": {
      "text/plain": [
       "(167, 3)"
      ]
     },
     "execution_count": 545,
     "metadata": {},
     "output_type": "execute_result"
    }
   ],
   "source": [
    "pca_df.shape\n",
    "#pca_df.columns"
   ]
  },
  {
   "cell_type": "code",
   "execution_count": 546,
   "metadata": {},
   "outputs": [],
   "source": [
    "final_df = pd.concat([pca_df, y], axis=1)"
   ]
  },
  {
   "cell_type": "code",
   "execution_count": 547,
   "metadata": {},
   "outputs": [
    {
     "data": {
      "text/html": [
       "<div>\n",
       "<style scoped>\n",
       "    .dataframe tbody tr th:only-of-type {\n",
       "        vertical-align: middle;\n",
       "    }\n",
       "\n",
       "    .dataframe tbody tr th {\n",
       "        vertical-align: top;\n",
       "    }\n",
       "\n",
       "    .dataframe thead th {\n",
       "        text-align: right;\n",
       "    }\n",
       "</style>\n",
       "<table border=\"1\" class=\"dataframe\">\n",
       "  <thead>\n",
       "    <tr style=\"text-align: right;\">\n",
       "      <th></th>\n",
       "      <th>PC1</th>\n",
       "      <th>PC2</th>\n",
       "      <th>PC3</th>\n",
       "      <th>country</th>\n",
       "    </tr>\n",
       "  </thead>\n",
       "  <tbody>\n",
       "    <tr>\n",
       "      <th>0</th>\n",
       "      <td>-2.637442</td>\n",
       "      <td>1.469038</td>\n",
       "      <td>-0.541359</td>\n",
       "      <td>Afghanistan</td>\n",
       "    </tr>\n",
       "    <tr>\n",
       "      <th>1</th>\n",
       "      <td>-0.022277</td>\n",
       "      <td>-1.431896</td>\n",
       "      <td>-0.020701</td>\n",
       "      <td>Albania</td>\n",
       "    </tr>\n",
       "    <tr>\n",
       "      <th>2</th>\n",
       "      <td>-0.457626</td>\n",
       "      <td>-0.673301</td>\n",
       "      <td>0.961867</td>\n",
       "      <td>Algeria</td>\n",
       "    </tr>\n",
       "    <tr>\n",
       "      <th>3</th>\n",
       "      <td>-2.724520</td>\n",
       "      <td>2.174583</td>\n",
       "      <td>0.606687</td>\n",
       "      <td>Angola</td>\n",
       "    </tr>\n",
       "    <tr>\n",
       "      <th>4</th>\n",
       "      <td>0.649849</td>\n",
       "      <td>-1.024374</td>\n",
       "      <td>-0.250103</td>\n",
       "      <td>Antigua and Barbuda</td>\n",
       "    </tr>\n",
       "  </tbody>\n",
       "</table>\n",
       "</div>"
      ],
      "text/plain": [
       "        PC1       PC2       PC3              country\n",
       "0 -2.637442  1.469038 -0.541359          Afghanistan\n",
       "1 -0.022277 -1.431896 -0.020701              Albania\n",
       "2 -0.457626 -0.673301  0.961867              Algeria\n",
       "3 -2.724520  2.174583  0.606687               Angola\n",
       "4  0.649849 -1.024374 -0.250103  Antigua and Barbuda"
      ]
     },
     "execution_count": 547,
     "metadata": {},
     "output_type": "execute_result"
    }
   ],
   "source": [
    "final_df.head()"
   ]
  },
  {
   "cell_type": "code",
   "execution_count": 548,
   "metadata": {},
   "outputs": [
    {
     "data": {
      "text/plain": [
       "(167, 4)"
      ]
     },
     "execution_count": 548,
     "metadata": {},
     "output_type": "execute_result"
    }
   ],
   "source": [
    "final_df.shape"
   ]
  },
  {
   "cell_type": "code",
   "execution_count": 549,
   "metadata": {},
   "outputs": [],
   "source": [
    "final_data_pca = pd.concat([pca_df, data,y], axis=1)"
   ]
  },
  {
   "cell_type": "code",
   "execution_count": 550,
   "metadata": {},
   "outputs": [
    {
     "data": {
      "text/plain": [
       "(167, 13)"
      ]
     },
     "execution_count": 550,
     "metadata": {},
     "output_type": "execute_result"
    }
   ],
   "source": [
    "final_data_pca.shape\n"
   ]
  },
  {
   "cell_type": "markdown",
   "metadata": {},
   "source": [
    "# Outlier Treatment\n"
   ]
  },
  {
   "cell_type": "markdown",
   "metadata": {},
   "source": [
    "check outliers on PCA's"
   ]
  },
  {
   "cell_type": "code",
   "execution_count": 551,
   "metadata": {
    "scrolled": true
   },
   "outputs": [
    {
     "data": {
      "text/plain": [
       "<matplotlib.axes._subplots.AxesSubplot at 0x2924a3e5940>"
      ]
     },
     "execution_count": 551,
     "metadata": {},
     "output_type": "execute_result"
    },
    {
     "data": {
      "image/png": "[encoded data removed]",
      "text/plain": [
       "<Figure size 432x288 with 1 Axes>"
      ]
     },
     "metadata": {
      "needs_background": "light"
     },
     "output_type": "display_data"
    }
   ],
   "source": [
    "sns.boxplot(y=final_data_pca.PC1)"
   ]
  },
  {
   "cell_type": "code",
   "execution_count": 552,
   "metadata": {
    "scrolled": true
   },
   "outputs": [
    {
     "data": {
      "text/plain": [
       "<matplotlib.axes._subplots.AxesSubplot at 0x2924a42e5f8>"
      ]
     },
     "execution_count": 552,
     "metadata": {},
     "output_type": "execute_result"
    },
    {
     "data": {
      "image/png": "[encoded data removed]",
      "text/plain": [
       "<Figure size 432x288 with 1 Axes>"
      ]
     },
     "metadata": {
      "needs_background": "light"
     },
     "output_type": "display_data"
    }
   ],
   "source": [
    "sns.boxplot(y=final_data_pca.PC2)"
   ]
  },
  {
   "cell_type": "code",
   "execution_count": 553,
   "metadata": {},
   "outputs": [
    {
     "data": {
      "text/plain": [
       "<matplotlib.axes._subplots.AxesSubplot at 0x2924a481c88>"
      ]
     },
     "execution_count": 553,
     "metadata": {},
     "output_type": "execute_result"
    },
    {
     "data": {
      "image/png": "[encoded data removed]",
      "text/plain": [
       "<Figure size 432x288 with 1 Axes>"
      ]
     },
     "metadata": {
      "needs_background": "light"
     },
     "output_type": "display_data"
    }
   ],
   "source": [
    "sns.boxplot(y=final_data_pca.PC3)"
   ]
  },
  {
   "cell_type": "code",
   "execution_count": 554,
   "metadata": {},
   "outputs": [],
   "source": [
    "rm_outlr_data = final_data_pca.copy()"
   ]
  },
  {
   "cell_type": "code",
   "execution_count": 555,
   "metadata": {},
   "outputs": [],
   "source": [
    "# removing (statistical) outliers for PC1,PC2,PC3\n",
    "Q1 = rm_outlr_data.PC1.quantile(0.25)\n",
    "Q3 = rm_outlr_data.PC1.quantile(0.75)\n",
    "IQR = Q3 - Q1\n",
    "rm_outlr_data = rm_outlr_data[(rm_outlr_data.PC1 >= Q1 - 1.5*IQR) & (rm_outlr_data.PC1 <= Q3 + 1.5*IQR)]\n",
    "\n",
    "# outlier treatment for recency\n",
    "Q1 = rm_outlr_data.PC2.quantile(0.25)\n",
    "Q3 = rm_outlr_data.PC2.quantile(0.75)\n",
    "IQR = Q3 - Q1\n",
    "rm_outlr_data = rm_outlr_data[(rm_outlr_data.PC2 >= Q1 - 1.5*IQR) & (rm_outlr_data.PC2 <= Q3 + 1.5*IQR)]\n",
    "\n",
    "# outlier treatment for frequency\n",
    "Q1 = rm_outlr_data.PC3.quantile(0.25)\n",
    "Q3 = rm_outlr_data.PC3.quantile(0.75)\n",
    "IQR = Q3 - Q1\n",
    "rm_outlr_data = rm_outlr_data[(rm_outlr_data.PC3 >= Q1 - 1.5*IQR) & (rm_outlr_data.PC3 <= Q3 + 1.5*IQR)]"
   ]
  },
  {
   "cell_type": "code",
   "execution_count": 556,
   "metadata": {
    "scrolled": true
   },
   "outputs": [
    {
     "data": {
      "text/plain": [
       "(149, 13)"
      ]
     },
     "execution_count": 556,
     "metadata": {},
     "output_type": "execute_result"
    }
   ],
   "source": [
    "rm_outlr_data.shape"
   ]
  },
  {
   "cell_type": "code",
   "execution_count": 557,
   "metadata": {},
   "outputs": [],
   "source": [
    "#Calculating the Hopkins statistic\n",
    "from sklearn.neighbors import NearestNeighbors\n",
    "from random import sample\n",
    "from numpy.random import uniform\n",
    "import numpy as np\n",
    "from math import isnan\n",
    " \n",
    "def hopkins(X):\n",
    "    d = X.shape[1]\n",
    "    #d = len(vars) # columns\n",
    "    n = len(X) # rows\n",
    "    m = int(0.1 * n) \n",
    "    nbrs = NearestNeighbors(n_neighbors=1).fit(X.values)\n",
    " \n",
    "    rand_X = sample(range(0, n, 1), m)\n",
    " \n",
    "    ujd = []\n",
    "    wjd = []\n",
    "    for j in range(0, m):\n",
    "        u_dist, _ = nbrs.kneighbors(uniform(np.amin(X,axis=0),np.amax(X,axis=0),d).reshape(1, -1), 2, return_distance=True)\n",
    "        ujd.append(u_dist[0][1])\n",
    "        w_dist, _ = nbrs.kneighbors(X.iloc[rand_X[j]].values.reshape(1, -1), 2, return_distance=True)\n",
    "        wjd.append(w_dist[0][1])\n",
    " \n",
    "    H = sum(ujd) / (sum(ujd) + sum(wjd))\n",
    "    if isnan(H):\n",
    "        print(ujd, wjd)\n",
    "        H = 0\n",
    " \n",
    "    return H\n"
   ]
  },
  {
   "cell_type": "code",
   "execution_count": 558,
   "metadata": {},
   "outputs": [
    {
     "data": {
      "text/html": [
       "<div>\n",
       "<style scoped>\n",
       "    .dataframe tbody tr th:only-of-type {\n",
       "        vertical-align: middle;\n",
       "    }\n",
       "\n",
       "    .dataframe tbody tr th {\n",
       "        vertical-align: top;\n",
       "    }\n",
       "\n",
       "    .dataframe thead th {\n",
       "        text-align: right;\n",
       "    }\n",
       "</style>\n",
       "<table border=\"1\" class=\"dataframe\">\n",
       "  <thead>\n",
       "    <tr style=\"text-align: right;\">\n",
       "      <th></th>\n",
       "      <th>PC1</th>\n",
       "      <th>PC2</th>\n",
       "      <th>PC3</th>\n",
       "    </tr>\n",
       "  </thead>\n",
       "  <tbody>\n",
       "    <tr>\n",
       "      <th>0</th>\n",
       "      <td>-2.637442</td>\n",
       "      <td>1.469038</td>\n",
       "      <td>-0.541359</td>\n",
       "    </tr>\n",
       "    <tr>\n",
       "      <th>1</th>\n",
       "      <td>-0.022277</td>\n",
       "      <td>-1.431896</td>\n",
       "      <td>-0.020701</td>\n",
       "    </tr>\n",
       "    <tr>\n",
       "      <th>2</th>\n",
       "      <td>-0.457626</td>\n",
       "      <td>-0.673301</td>\n",
       "      <td>0.961867</td>\n",
       "    </tr>\n",
       "    <tr>\n",
       "      <th>3</th>\n",
       "      <td>-2.724520</td>\n",
       "      <td>2.174583</td>\n",
       "      <td>0.606687</td>\n",
       "    </tr>\n",
       "    <tr>\n",
       "      <th>4</th>\n",
       "      <td>0.649849</td>\n",
       "      <td>-1.024374</td>\n",
       "      <td>-0.250103</td>\n",
       "    </tr>\n",
       "  </tbody>\n",
       "</table>\n",
       "</div>"
      ],
      "text/plain": [
       "        PC1       PC2       PC3\n",
       "0 -2.637442  1.469038 -0.541359\n",
       "1 -0.022277 -1.431896 -0.020701\n",
       "2 -0.457626 -0.673301  0.961867\n",
       "3 -2.724520  2.174583  0.606687\n",
       "4  0.649849 -1.024374 -0.250103"
      ]
     },
     "execution_count": 558,
     "metadata": {},
     "output_type": "execute_result"
    }
   ],
   "source": [
    "kmns_rm_df = rm_outlr_data[['PC1','PC2','PC3']]\n",
    "kmns_rm_df.head()"
   ]
  },
  {
   "cell_type": "code",
   "execution_count": 559,
   "metadata": {
    "scrolled": true
   },
   "outputs": [
    {
     "data": {
      "text/plain": [
       "0.7440107926919637"
      ]
     },
     "execution_count": 559,
     "metadata": {},
     "output_type": "execute_result"
    }
   ],
   "source": [
    "hopkins(kmns_rm_df)"
   ]
  },
  {
   "cell_type": "markdown",
   "metadata": {},
   "source": [
    "Given data is good for clustering"
   ]
  },
  {
   "cell_type": "code",
   "execution_count": 560,
   "metadata": {},
   "outputs": [
    {
     "data": {
      "text/plain": [
       "[<matplotlib.lines.Line2D at 0x2924a51abe0>]"
      ]
     },
     "execution_count": 560,
     "metadata": {},
     "output_type": "execute_result"
    },
    {
     "data": {
      "image/png": "[encoded data removed]",
      "text/plain": [
       "<Figure size 432x288 with 1 Axes>"
      ]
     },
     "metadata": {
      "needs_background": "light"
     },
     "output_type": "display_data"
    }
   ],
   "source": [
    "# elbow-curve/SSD\n",
    "ssd = []\n",
    "range_n_clusters = [2, 3, 4, 5, 6, 7, 8]\n",
    "for num_clusters in range_n_clusters:\n",
    "    kmeans = KMeans(n_clusters=num_clusters, max_iter=50)\n",
    "    kmeans.fit(kmns_rm_df)\n",
    "    \n",
    "    ssd.append(kmeans.inertia_)\n",
    "    \n",
    "# plot the SSDs for each n_clusters\n",
    "# ssd\n",
    "plt.plot(ssd)"
   ]
  },
  {
   "cell_type": "markdown",
   "metadata": {},
   "source": [
    "elbow bend at 2 means 3 clusters"
   ]
  },
  {
   "cell_type": "code",
   "execution_count": 561,
   "metadata": {},
   "outputs": [
    {
     "name": "stdout",
     "output_type": "stream",
     "text": [
      "For n_clusters=2, the silhouette score is 0.45946256207584163\n",
      "For n_clusters=3, the silhouette score is 0.5171734664552139\n",
      "For n_clusters=4, the silhouette score is 0.4374615104958549\n",
      "For n_clusters=5, the silhouette score is 0.3863978141281593\n",
      "For n_clusters=6, the silhouette score is 0.36753571913753585\n",
      "For n_clusters=7, the silhouette score is 0.3641486058070635\n",
      "For n_clusters=8, the silhouette score is 0.3796505481897815\n"
     ]
    }
   ],
   "source": [
    "\n",
    "# silhouette analysis\n",
    "range_n_clusters = [2, 3, 4, 5, 6, 7, 8]\n",
    "\n",
    "for num_clusters in range_n_clusters:\n",
    "    \n",
    "    # intialise kmeans\n",
    "    kmeans = KMeans(n_clusters=num_clusters, max_iter=50,random_state =80)\n",
    "    kmeans.fit(kmns_rm_df)\n",
    "    \n",
    "    cluster_labels = kmeans.labels_\n",
    "    \n",
    "    # silhouette score\n",
    "    silhouette_avg = silhouette_score(kmns_rm_df, cluster_labels)\n",
    "    print(\"For n_clusters={0}, the silhouette score is {1}\".format(num_clusters, silhouette_avg))\n",
    "    \n",
    "    "
   ]
  },
  {
   "cell_type": "code",
   "execution_count": 562,
   "metadata": {},
   "outputs": [
    {
     "data": {
      "text/plain": [
       "KMeans(algorithm='auto', copy_x=True, init='k-means++', max_iter=50,\n",
       "    n_clusters=3, n_init=10, n_jobs=None, precompute_distances='auto',\n",
       "    random_state=42, tol=0.0001, verbose=0)"
      ]
     },
     "execution_count": 562,
     "metadata": {},
     "output_type": "execute_result"
    }
   ],
   "source": [
    "# final model with k=3\n",
    "kmeans = KMeans(n_clusters=3, max_iter=50, random_state = 42)\n",
    "kmeans.fit(kmns_rm_df)"
   ]
  },
  {
   "cell_type": "code",
   "execution_count": 563,
   "metadata": {},
   "outputs": [
    {
     "data": {
      "text/plain": [
       "array([2, 1, 1, 2, 1, 1, 0, 0, 1, 0, 0, 1, 1, 1, 0, 1, 2, 1, 1, 1, 2, 1,\n",
       "       1, 2, 2, 1, 2, 0, 1, 2, 1, 1, 1, 2, 2, 2, 1, 2, 1, 0, 0, 1, 1, 1,\n",
       "       1, 2, 2, 1, 1, 0, 0, 2, 2, 1, 0, 2, 0, 1, 1, 2, 2, 1, 1, 0, 1, 1,\n",
       "       1, 2, 0, 0, 1, 0, 1, 1, 2, 2, 0, 1, 2, 1, 1, 2, 2, 1, 1, 1, 2, 2,\n",
       "       1, 1, 2, 0, 2, 1, 1, 1, 1, 1, 2, 1, 2, 1, 0, 2, 1, 2, 1, 1, 1, 1,\n",
       "       1, 0, 1, 1, 2, 1, 2, 1, 1, 2, 0, 0, 2, 2, 0, 0, 1, 2, 1, 0, 1, 2,\n",
       "       1, 2, 1, 1, 1, 1, 2, 1, 0, 0, 0, 1, 1, 1, 1, 2, 2])"
      ]
     },
     "execution_count": 563,
     "metadata": {},
     "output_type": "execute_result"
    }
   ],
   "source": [
    "kmeans.labels_"
   ]
  },
  {
   "cell_type": "code",
   "execution_count": 564,
   "metadata": {
    "scrolled": true
   },
   "outputs": [
    {
     "name": "stderr",
     "output_type": "stream",
     "text": [
      "C:\\Users\\dayan\\Anaconda3\\lib\\site-packages\\ipykernel_launcher.py:2: SettingWithCopyWarning: \n",
      "A value is trying to be set on a copy of a slice from a DataFrame.\n",
      "Try using .loc[row_indexer,col_indexer] = value instead\n",
      "\n",
      "See the caveats in the documentation: http://pandas.pydata.org/pandas-docs/stable/indexing.html#indexing-view-versus-copy\n",
      "  \n"
     ]
    },
    {
     "data": {
      "text/html": [
       "<div>\n",
       "<style scoped>\n",
       "    .dataframe tbody tr th:only-of-type {\n",
       "        vertical-align: middle;\n",
       "    }\n",
       "\n",
       "    .dataframe tbody tr th {\n",
       "        vertical-align: top;\n",
       "    }\n",
       "\n",
       "    .dataframe thead th {\n",
       "        text-align: right;\n",
       "    }\n",
       "</style>\n",
       "<table border=\"1\" class=\"dataframe\">\n",
       "  <thead>\n",
       "    <tr style=\"text-align: right;\">\n",
       "      <th></th>\n",
       "      <th>PC1</th>\n",
       "      <th>PC2</th>\n",
       "      <th>PC3</th>\n",
       "      <th>child_mort</th>\n",
       "      <th>exports</th>\n",
       "      <th>health</th>\n",
       "      <th>imports</th>\n",
       "      <th>income</th>\n",
       "      <th>inflation</th>\n",
       "      <th>life_expec</th>\n",
       "      <th>total_fer</th>\n",
       "      <th>gdpp</th>\n",
       "      <th>country</th>\n",
       "      <th>rmout_clus_id</th>\n",
       "    </tr>\n",
       "  </thead>\n",
       "  <tbody>\n",
       "    <tr>\n",
       "      <th>0</th>\n",
       "      <td>-2.637442</td>\n",
       "      <td>1.469038</td>\n",
       "      <td>-0.541359</td>\n",
       "      <td>90.2</td>\n",
       "      <td>55.30</td>\n",
       "      <td>41.9174</td>\n",
       "      <td>248.297</td>\n",
       "      <td>1610</td>\n",
       "      <td>9.44</td>\n",
       "      <td>56.2</td>\n",
       "      <td>5.82</td>\n",
       "      <td>553</td>\n",
       "      <td>Afghanistan</td>\n",
       "      <td>2</td>\n",
       "    </tr>\n",
       "    <tr>\n",
       "      <th>1</th>\n",
       "      <td>-0.022277</td>\n",
       "      <td>-1.431896</td>\n",
       "      <td>-0.020701</td>\n",
       "      <td>16.6</td>\n",
       "      <td>1145.20</td>\n",
       "      <td>267.8950</td>\n",
       "      <td>1987.740</td>\n",
       "      <td>9930</td>\n",
       "      <td>4.49</td>\n",
       "      <td>76.3</td>\n",
       "      <td>1.65</td>\n",
       "      <td>4090</td>\n",
       "      <td>Albania</td>\n",
       "      <td>1</td>\n",
       "    </tr>\n",
       "    <tr>\n",
       "      <th>2</th>\n",
       "      <td>-0.457626</td>\n",
       "      <td>-0.673301</td>\n",
       "      <td>0.961867</td>\n",
       "      <td>27.3</td>\n",
       "      <td>1712.64</td>\n",
       "      <td>185.9820</td>\n",
       "      <td>1400.440</td>\n",
       "      <td>12900</td>\n",
       "      <td>16.10</td>\n",
       "      <td>76.5</td>\n",
       "      <td>2.89</td>\n",
       "      <td>4460</td>\n",
       "      <td>Algeria</td>\n",
       "      <td>1</td>\n",
       "    </tr>\n",
       "    <tr>\n",
       "      <th>3</th>\n",
       "      <td>-2.724520</td>\n",
       "      <td>2.174583</td>\n",
       "      <td>0.606687</td>\n",
       "      <td>119.0</td>\n",
       "      <td>2199.19</td>\n",
       "      <td>100.6050</td>\n",
       "      <td>1514.370</td>\n",
       "      <td>5900</td>\n",
       "      <td>22.40</td>\n",
       "      <td>60.1</td>\n",
       "      <td>6.16</td>\n",
       "      <td>3530</td>\n",
       "      <td>Angola</td>\n",
       "      <td>2</td>\n",
       "    </tr>\n",
       "    <tr>\n",
       "      <th>4</th>\n",
       "      <td>0.649849</td>\n",
       "      <td>-1.024374</td>\n",
       "      <td>-0.250103</td>\n",
       "      <td>10.3</td>\n",
       "      <td>5551.00</td>\n",
       "      <td>735.6600</td>\n",
       "      <td>7185.800</td>\n",
       "      <td>19100</td>\n",
       "      <td>1.44</td>\n",
       "      <td>76.8</td>\n",
       "      <td>2.13</td>\n",
       "      <td>12200</td>\n",
       "      <td>Antigua and Barbuda</td>\n",
       "      <td>1</td>\n",
       "    </tr>\n",
       "  </tbody>\n",
       "</table>\n",
       "</div>"
      ],
      "text/plain": [
       "        PC1       PC2       PC3  child_mort  exports    health   imports  \\\n",
       "0 -2.637442  1.469038 -0.541359        90.2    55.30   41.9174   248.297   \n",
       "1 -0.022277 -1.431896 -0.020701        16.6  1145.20  267.8950  1987.740   \n",
       "2 -0.457626 -0.673301  0.961867        27.3  1712.64  185.9820  1400.440   \n",
       "3 -2.724520  2.174583  0.606687       119.0  2199.19  100.6050  1514.370   \n",
       "4  0.649849 -1.024374 -0.250103        10.3  5551.00  735.6600  7185.800   \n",
       "\n",
       "   income  inflation  life_expec  total_fer   gdpp              country  \\\n",
       "0    1610       9.44        56.2       5.82    553          Afghanistan   \n",
       "1    9930       4.49        76.3       1.65   4090              Albania   \n",
       "2   12900      16.10        76.5       2.89   4460              Algeria   \n",
       "3    5900      22.40        60.1       6.16   3530               Angola   \n",
       "4   19100       1.44        76.8       2.13  12200  Antigua and Barbuda   \n",
       "\n",
       "   rmout_clus_id  \n",
       "0              2  \n",
       "1              1  \n",
       "2              1  \n",
       "3              2  \n",
       "4              1  "
      ]
     },
     "execution_count": 564,
     "metadata": {},
     "output_type": "execute_result"
    }
   ],
   "source": [
    "# assign the label\n",
    "kmns_rm_df['rmout_clus_id'] = kmeans.labels_\n",
    "rm_outlr_data['rmout_clus_id'] = kmeans.labels_\n",
    "\n",
    "\n",
    "rm_outlr_data.head()"
   ]
  },
  {
   "cell_type": "code",
   "execution_count": 565,
   "metadata": {
    "scrolled": true
   },
   "outputs": [
    {
     "data": {
      "text/html": [
       "<div>\n",
       "<style scoped>\n",
       "    .dataframe tbody tr th:only-of-type {\n",
       "        vertical-align: middle;\n",
       "    }\n",
       "\n",
       "    .dataframe tbody tr th {\n",
       "        vertical-align: top;\n",
       "    }\n",
       "\n",
       "    .dataframe thead th {\n",
       "        text-align: right;\n",
       "    }\n",
       "</style>\n",
       "<table border=\"1\" class=\"dataframe\">\n",
       "  <thead>\n",
       "    <tr style=\"text-align: right;\">\n",
       "      <th></th>\n",
       "      <th>PC1</th>\n",
       "      <th>PC2</th>\n",
       "      <th>PC3</th>\n",
       "      <th>rmout_clus_id</th>\n",
       "    </tr>\n",
       "  </thead>\n",
       "  <tbody>\n",
       "    <tr>\n",
       "      <th>0</th>\n",
       "      <td>-2.637442</td>\n",
       "      <td>1.469038</td>\n",
       "      <td>-0.541359</td>\n",
       "      <td>2</td>\n",
       "    </tr>\n",
       "    <tr>\n",
       "      <th>1</th>\n",
       "      <td>-0.022277</td>\n",
       "      <td>-1.431896</td>\n",
       "      <td>-0.020701</td>\n",
       "      <td>1</td>\n",
       "    </tr>\n",
       "    <tr>\n",
       "      <th>2</th>\n",
       "      <td>-0.457626</td>\n",
       "      <td>-0.673301</td>\n",
       "      <td>0.961867</td>\n",
       "      <td>1</td>\n",
       "    </tr>\n",
       "    <tr>\n",
       "      <th>3</th>\n",
       "      <td>-2.724520</td>\n",
       "      <td>2.174583</td>\n",
       "      <td>0.606687</td>\n",
       "      <td>2</td>\n",
       "    </tr>\n",
       "    <tr>\n",
       "      <th>4</th>\n",
       "      <td>0.649849</td>\n",
       "      <td>-1.024374</td>\n",
       "      <td>-0.250103</td>\n",
       "      <td>1</td>\n",
       "    </tr>\n",
       "  </tbody>\n",
       "</table>\n",
       "</div>"
      ],
      "text/plain": [
       "        PC1       PC2       PC3  rmout_clus_id\n",
       "0 -2.637442  1.469038 -0.541359              2\n",
       "1 -0.022277 -1.431896 -0.020701              1\n",
       "2 -0.457626 -0.673301  0.961867              1\n",
       "3 -2.724520  2.174583  0.606687              2\n",
       "4  0.649849 -1.024374 -0.250103              1"
      ]
     },
     "execution_count": 565,
     "metadata": {},
     "output_type": "execute_result"
    }
   ],
   "source": [
    "kmns_rm_df.head()"
   ]
  },
  {
   "cell_type": "code",
   "execution_count": 566,
   "metadata": {},
   "outputs": [
    {
     "data": {
      "text/plain": [
       "<matplotlib.axes._subplots.AxesSubplot at 0x292482a8da0>"
      ]
     },
     "execution_count": 566,
     "metadata": {},
     "output_type": "execute_result"
    },
    {
     "data": {
      "image/png": "[encoded data removed]",
      "text/plain": [
       "<Figure size 432x288 with 1 Axes>"
      ]
     },
     "metadata": {
      "needs_background": "light"
     },
     "output_type": "display_data"
    }
   ],
   "source": [
    "sns.scatterplot(x='PC1', y='PC2',hue = 'rmout_clus_id',data=kmns_rm_df)"
   ]
  },
  {
   "cell_type": "code",
   "execution_count": 567,
   "metadata": {},
   "outputs": [
    {
     "data": {
      "text/plain": [
       "<matplotlib.axes._subplots.AxesSubplot at 0x29248377a58>"
      ]
     },
     "execution_count": 567,
     "metadata": {},
     "output_type": "execute_result"
    },
    {
     "data": {
      "image/png": "[encoded data removed]",
      "text/plain": [
       "<Figure size 432x288 with 1 Axes>"
      ]
     },
     "metadata": {
      "needs_background": "light"
     },
     "output_type": "display_data"
    }
   ],
   "source": [
    "sns.scatterplot(x='PC2', y='PC3',hue = 'rmout_clus_id',data=kmns_rm_df)"
   ]
  },
  {
   "cell_type": "code",
   "execution_count": 568,
   "metadata": {},
   "outputs": [
    {
     "data": {
      "text/plain": [
       "<matplotlib.axes._subplots.AxesSubplot at 0x292483cefd0>"
      ]
     },
     "execution_count": 568,
     "metadata": {},
     "output_type": "execute_result"
    },
    {
     "data": {
      "image/png": "[encoded data removed]",
      "text/plain": [
       "<Figure size 432x288 with 1 Axes>"
      ]
     },
     "metadata": {
      "needs_background": "light"
     },
     "output_type": "display_data"
    }
   ],
   "source": [
    "sns.scatterplot(x='PC1', y='PC3',hue = 'rmout_clus_id',data=kmns_rm_df)"
   ]
  },
  {
   "cell_type": "code",
   "execution_count": 569,
   "metadata": {
    "scrolled": false
   },
   "outputs": [
    {
     "data": {
      "text/plain": [
       "<matplotlib.axes._subplots.AxesSubplot at 0x29248448550>"
      ]
     },
     "execution_count": 569,
     "metadata": {},
     "output_type": "execute_result"
    },
    {
     "data": {
      "image/png": "[encoded data removed]",
      "text/plain": [
       "<Figure size 432x288 with 1 Axes>"
      ]
     },
     "metadata": {
      "needs_background": "light"
     },
     "output_type": "display_data"
    }
   ],
   "source": [
    "sns.boxplot(x='rmout_clus_id', y='PC1', data=kmns_rm_df)"
   ]
  },
  {
   "cell_type": "code",
   "execution_count": 570,
   "metadata": {},
   "outputs": [
    {
     "data": {
      "text/plain": [
       "<matplotlib.axes._subplots.AxesSubplot at 0x292484b5710>"
      ]
     },
     "execution_count": 570,
     "metadata": {},
     "output_type": "execute_result"
    },
    {
     "data": {
      "image/png": "[encoded data removed]",
      "text/plain": [
       "<Figure size 432x288 with 1 Axes>"
      ]
     },
     "metadata": {
      "needs_background": "light"
     },
     "output_type": "display_data"
    }
   ],
   "source": [
    "sns.boxplot(x='rmout_clus_id', y='PC2', data=kmns_rm_df)"
   ]
  },
  {
   "cell_type": "code",
   "execution_count": 571,
   "metadata": {},
   "outputs": [
    {
     "data": {
      "text/plain": [
       "<matplotlib.axes._subplots.AxesSubplot at 0x2924a77d390>"
      ]
     },
     "execution_count": 571,
     "metadata": {},
     "output_type": "execute_result"
    },
    {
     "data": {
      "image/png": "[encoded data removed]",
      "text/plain": [
       "<Figure size 432x288 with 1 Axes>"
      ]
     },
     "metadata": {
      "needs_background": "light"
     },
     "output_type": "display_data"
    }
   ],
   "source": [
    "sns.boxplot(x='rmout_clus_id', y='PC3', data=kmns_rm_df)"
   ]
  },
  {
   "cell_type": "code",
   "execution_count": 572,
   "metadata": {},
   "outputs": [
    {
     "data": {
      "text/plain": [
       "<matplotlib.axes._subplots.AxesSubplot at 0x2924a7f52e8>"
      ]
     },
     "execution_count": 572,
     "metadata": {},
     "output_type": "execute_result"
    },
    {
     "data": {
      "image/png": "[encoded data removed]",
      "text/plain": [
       "<Figure size 432x288 with 1 Axes>"
      ]
     },
     "metadata": {
      "needs_background": "light"
     },
     "output_type": "display_data"
    }
   ],
   "source": [
    "sns.boxplot(x='rmout_clus_id', y='child_mort', data=rm_outlr_data)"
   ]
  },
  {
   "cell_type": "code",
   "execution_count": 573,
   "metadata": {},
   "outputs": [
    {
     "data": {
      "text/plain": [
       "<matplotlib.axes._subplots.AxesSubplot at 0x2924a86acf8>"
      ]
     },
     "execution_count": 573,
     "metadata": {},
     "output_type": "execute_result"
    },
    {
     "data": {
      "image/png": "[encoded data removed]",
      "text/plain": [
       "<Figure size 432x288 with 1 Axes>"
      ]
     },
     "metadata": {
      "needs_background": "light"
     },
     "output_type": "display_data"
    }
   ],
   "source": [
    "sns.boxplot(x='rmout_clus_id', y='gdpp', data=rm_outlr_data)"
   ]
  },
  {
   "cell_type": "code",
   "execution_count": 574,
   "metadata": {
    "scrolled": false
   },
   "outputs": [
    {
     "data": {
      "text/plain": [
       "<matplotlib.axes._subplots.AxesSubplot at 0x2924a8df9e8>"
      ]
     },
     "execution_count": 574,
     "metadata": {},
     "output_type": "execute_result"
    },
    {
     "data": {
      "image/png": "[encoded data removed]",
      "text/plain": [
       "<Figure size 432x288 with 1 Axes>"
      ]
     },
     "metadata": {
      "needs_background": "light"
     },
     "output_type": "display_data"
    }
   ],
   "source": [
    "sns.boxplot(x='rmout_clus_id', y='income', data=rm_outlr_data)"
   ]
  },
  {
   "cell_type": "markdown",
   "metadata": {},
   "source": [
    "# Analysis"
   ]
  },
  {
   "cell_type": "code",
   "execution_count": 575,
   "metadata": {},
   "outputs": [],
   "source": [
    "#Analysis\n",
    "gdpp_mean_km=rm_outlr_data.groupby(['rmout_clus_id']).gdpp.mean()\n",
    "childmort_mean_km=rm_outlr_data.groupby(['rmout_clus_id']).child_mort.mean()\n",
    "Income_mean_km=rm_outlr_data.groupby(['rmout_clus_id']).income.mean()"
   ]
  },
  {
   "cell_type": "code",
   "execution_count": 576,
   "metadata": {},
   "outputs": [],
   "source": [
    "# Let's concat the resultant with the Cluster ID columns\n",
    "df_clust_km=pd.concat([gdpp_mean_km,childmort_mean_km,Income_mean_km],axis=1)"
   ]
  },
  {
   "cell_type": "code",
   "execution_count": 577,
   "metadata": {},
   "outputs": [
    {
     "data": {
      "text/html": [
       "<div>\n",
       "<style scoped>\n",
       "    .dataframe tbody tr th:only-of-type {\n",
       "        vertical-align: middle;\n",
       "    }\n",
       "\n",
       "    .dataframe tbody tr th {\n",
       "        vertical-align: top;\n",
       "    }\n",
       "\n",
       "    .dataframe thead th {\n",
       "        text-align: right;\n",
       "    }\n",
       "</style>\n",
       "<table border=\"1\" class=\"dataframe\">\n",
       "  <thead>\n",
       "    <tr style=\"text-align: right;\">\n",
       "      <th></th>\n",
       "      <th>gdpp</th>\n",
       "      <th>child_mort</th>\n",
       "      <th>income</th>\n",
       "    </tr>\n",
       "    <tr>\n",
       "      <th>rmout_clus_id</th>\n",
       "      <th></th>\n",
       "      <th></th>\n",
       "      <th></th>\n",
       "    </tr>\n",
       "  </thead>\n",
       "  <tbody>\n",
       "    <tr>\n",
       "      <th>0</th>\n",
       "      <td>35042.857143</td>\n",
       "      <td>5.292857</td>\n",
       "      <td>37310.714286</td>\n",
       "    </tr>\n",
       "    <tr>\n",
       "      <th>1</th>\n",
       "      <td>6065.090909</td>\n",
       "      <td>22.277922</td>\n",
       "      <td>11845.714286</td>\n",
       "    </tr>\n",
       "    <tr>\n",
       "      <th>2</th>\n",
       "      <td>1922.818182</td>\n",
       "      <td>87.447727</td>\n",
       "      <td>4038.295455</td>\n",
       "    </tr>\n",
       "  </tbody>\n",
       "</table>\n",
       "</div>"
      ],
      "text/plain": [
       "                       gdpp  child_mort        income\n",
       "rmout_clus_id                                        \n",
       "0              35042.857143    5.292857  37310.714286\n",
       "1               6065.090909   22.277922  11845.714286\n",
       "2               1922.818182   87.447727   4038.295455"
      ]
     },
     "execution_count": 577,
     "metadata": {},
     "output_type": "execute_result"
    }
   ],
   "source": [
    "df_clust_km"
   ]
  },
  {
   "cell_type": "markdown",
   "metadata": {},
   "source": [
    "# The df_clust_km clearly shows that \n",
    "# CLuster 0 - Developed Countries - with High GDPP and Income and low Child_mort\n",
    "# Cluster 1 - Developing Countries - with medium GDPP, income and medium Child_mort\n",
    "# Cluster 2 - Under Developed COuntries with - with low GDPP, income and High Child_mort"
   ]
  },
  {
   "cell_type": "code",
   "execution_count": 578,
   "metadata": {
    "scrolled": true
   },
   "outputs": [
    {
     "data": {
      "text/plain": [
       "0            Afghanistan\n",
       "3                 Angola\n",
       "17                 Benin\n",
       "21              Botswana\n",
       "25          Burkina Faso\n",
       "26               Burundi\n",
       "28              Cameroon\n",
       "32                  Chad\n",
       "36               Comoros\n",
       "37      Congo, Dem. Rep.\n",
       "38           Congo, Rep.\n",
       "40         Cote d'Ivoire\n",
       "49     Equatorial Guinea\n",
       "50               Eritrea\n",
       "55                 Gabon\n",
       "56                Gambia\n",
       "59                 Ghana\n",
       "63                Guinea\n",
       "64         Guinea-Bissau\n",
       "72                  Iraq\n",
       "80                 Kenya\n",
       "81              Kiribati\n",
       "84                   Lao\n",
       "87               Lesotho\n",
       "88               Liberia\n",
       "93            Madagascar\n",
       "94                Malawi\n",
       "97                  Mali\n",
       "99            Mauritania\n",
       "106           Mozambique\n",
       "108              Namibia\n",
       "112                Niger\n",
       "116             Pakistan\n",
       "126               Rwanda\n",
       "129              Senegal\n",
       "132         Sierra Leone\n",
       "136      Solomon Islands\n",
       "137         South Africa\n",
       "142                Sudan\n",
       "147             Tanzania\n",
       "150                 Togo\n",
       "155               Uganda\n",
       "165                Yemen\n",
       "166               Zambia\n",
       "Name: country, dtype: object"
      ]
     },
     "execution_count": 578,
     "metadata": {},
     "output_type": "execute_result"
    }
   ],
   "source": [
    "#Use binning to get under Developed Countries\n",
    "rm_outlr_data[rm_outlr_data['rmout_clus_id']==2]['country']"
   ]
  },
  {
   "cell_type": "markdown",
   "metadata": {},
   "source": [
    "# Hierarchial CLustering(both Single and Complete Linkage)"
   ]
  },
  {
   "cell_type": "code",
   "execution_count": 579,
   "metadata": {},
   "outputs": [
    {
     "data": {
      "text/html": [
       "<div>\n",
       "<style scoped>\n",
       "    .dataframe tbody tr th:only-of-type {\n",
       "        vertical-align: middle;\n",
       "    }\n",
       "\n",
       "    .dataframe tbody tr th {\n",
       "        vertical-align: top;\n",
       "    }\n",
       "\n",
       "    .dataframe thead th {\n",
       "        text-align: right;\n",
       "    }\n",
       "</style>\n",
       "<table border=\"1\" class=\"dataframe\">\n",
       "  <thead>\n",
       "    <tr style=\"text-align: right;\">\n",
       "      <th></th>\n",
       "      <th>PC1</th>\n",
       "      <th>PC2</th>\n",
       "      <th>PC3</th>\n",
       "    </tr>\n",
       "  </thead>\n",
       "  <tbody>\n",
       "    <tr>\n",
       "      <th>0</th>\n",
       "      <td>-2.637442</td>\n",
       "      <td>1.469038</td>\n",
       "      <td>-0.541359</td>\n",
       "    </tr>\n",
       "    <tr>\n",
       "      <th>1</th>\n",
       "      <td>-0.022277</td>\n",
       "      <td>-1.431896</td>\n",
       "      <td>-0.020701</td>\n",
       "    </tr>\n",
       "    <tr>\n",
       "      <th>2</th>\n",
       "      <td>-0.457626</td>\n",
       "      <td>-0.673301</td>\n",
       "      <td>0.961867</td>\n",
       "    </tr>\n",
       "    <tr>\n",
       "      <th>3</th>\n",
       "      <td>-2.724520</td>\n",
       "      <td>2.174583</td>\n",
       "      <td>0.606687</td>\n",
       "    </tr>\n",
       "    <tr>\n",
       "      <th>4</th>\n",
       "      <td>0.649849</td>\n",
       "      <td>-1.024374</td>\n",
       "      <td>-0.250103</td>\n",
       "    </tr>\n",
       "  </tbody>\n",
       "</table>\n",
       "</div>"
      ],
      "text/plain": [
       "        PC1       PC2       PC3\n",
       "0 -2.637442  1.469038 -0.541359\n",
       "1 -0.022277 -1.431896 -0.020701\n",
       "2 -0.457626 -0.673301  0.961867\n",
       "3 -2.724520  2.174583  0.606687\n",
       "4  0.649849 -1.024374 -0.250103"
      ]
     },
     "execution_count": 579,
     "metadata": {},
     "output_type": "execute_result"
    }
   ],
   "source": [
    "\n",
    "hier_rm_df = rm_outlr_data[['PC1','PC2','PC3']]\n",
    "hier_rm_df.shape\n",
    "hier_rm_df.head()"
   ]
  },
  {
   "cell_type": "code",
   "execution_count": 580,
   "metadata": {
    "scrolled": true
   },
   "outputs": [
    {
     "data": {
      "image/png": "[encoded data removed]",
      "text/plain": [
       "<Figure size 432x288 with 1 Axes>"
      ]
     },
     "metadata": {
      "needs_background": "light"
     },
     "output_type": "display_data"
    }
   ],
   "source": [
    "# single linkage\n",
    "mergings = linkage(hier_rm_df, method=\"single\", metric='euclidean')\n",
    "dendrogram(mergings)\n",
    "plt.show()"
   ]
  },
  {
   "cell_type": "code",
   "execution_count": 581,
   "metadata": {},
   "outputs": [
    {
     "data": {
      "image/png": "[encoded data removed]",
      "text/plain": [
       "<Figure size 432x288 with 1 Axes>"
      ]
     },
     "metadata": {
      "needs_background": "light"
     },
     "output_type": "display_data"
    }
   ],
   "source": [
    "# complete linkage\n",
    "mergings = linkage(hier_rm_df, method=\"complete\", metric='euclidean')\n",
    "dendrogram(mergings)\n",
    "plt.show()\n"
   ]
  },
  {
   "cell_type": "code",
   "execution_count": 582,
   "metadata": {},
   "outputs": [
    {
     "data": {
      "text/plain": [
       "array([0, 1, 1, 0, 1, 1, 2, 2, 1, 2, 2, 1, 1, 1, 2, 1, 0, 1, 1, 1, 0, 1,\n",
       "       1, 0, 0, 1, 0, 2, 1, 0, 1, 1, 1, 0, 0, 0, 1, 0, 1, 2, 2, 1, 1, 1,\n",
       "       1, 0, 0, 1, 1, 2, 2, 0, 0, 1, 2, 0, 2, 1, 1, 0, 0, 1, 1, 2, 1, 1,\n",
       "       1, 0, 2, 2, 1, 2, 1, 1, 0, 0, 2, 1, 0, 1, 1, 0, 0, 1, 1, 1, 0, 0,\n",
       "       1, 1, 0, 2, 0, 1, 1, 1, 1, 1, 0, 1, 0, 1, 2, 0, 2, 0, 1, 1, 1, 1,\n",
       "       1, 2, 1, 1, 0, 1, 0, 1, 1, 0, 2, 2, 0, 0, 2, 2, 1, 0, 1, 2, 1, 0,\n",
       "       1, 0, 1, 1, 1, 1, 0, 1, 2, 2, 2, 1, 1, 1, 1, 0, 0])"
      ]
     },
     "execution_count": 582,
     "metadata": {},
     "output_type": "execute_result"
    }
   ],
   "source": [
    "# 3 clusters\n",
    "cluster_labels = cut_tree(mergings, n_clusters=3).reshape(-1, )\n",
    "cluster_labels\n"
   ]
  },
  {
   "cell_type": "code",
   "execution_count": 583,
   "metadata": {},
   "outputs": [
    {
     "name": "stderr",
     "output_type": "stream",
     "text": [
      "C:\\Users\\dayan\\Anaconda3\\lib\\site-packages\\ipykernel_launcher.py:2: SettingWithCopyWarning: \n",
      "A value is trying to be set on a copy of a slice from a DataFrame.\n",
      "Try using .loc[row_indexer,col_indexer] = value instead\n",
      "\n",
      "See the caveats in the documentation: http://pandas.pydata.org/pandas-docs/stable/indexing.html#indexing-view-versus-copy\n",
      "  \n"
     ]
    },
    {
     "data": {
      "text/html": [
       "<div>\n",
       "<style scoped>\n",
       "    .dataframe tbody tr th:only-of-type {\n",
       "        vertical-align: middle;\n",
       "    }\n",
       "\n",
       "    .dataframe tbody tr th {\n",
       "        vertical-align: top;\n",
       "    }\n",
       "\n",
       "    .dataframe thead th {\n",
       "        text-align: right;\n",
       "    }\n",
       "</style>\n",
       "<table border=\"1\" class=\"dataframe\">\n",
       "  <thead>\n",
       "    <tr style=\"text-align: right;\">\n",
       "      <th></th>\n",
       "      <th>PC1</th>\n",
       "      <th>PC2</th>\n",
       "      <th>PC3</th>\n",
       "      <th>Hrclstr_labels</th>\n",
       "    </tr>\n",
       "  </thead>\n",
       "  <tbody>\n",
       "    <tr>\n",
       "      <th>0</th>\n",
       "      <td>-2.637442</td>\n",
       "      <td>1.469038</td>\n",
       "      <td>-0.541359</td>\n",
       "      <td>0</td>\n",
       "    </tr>\n",
       "    <tr>\n",
       "      <th>1</th>\n",
       "      <td>-0.022277</td>\n",
       "      <td>-1.431896</td>\n",
       "      <td>-0.020701</td>\n",
       "      <td>1</td>\n",
       "    </tr>\n",
       "    <tr>\n",
       "      <th>2</th>\n",
       "      <td>-0.457626</td>\n",
       "      <td>-0.673301</td>\n",
       "      <td>0.961867</td>\n",
       "      <td>1</td>\n",
       "    </tr>\n",
       "    <tr>\n",
       "      <th>3</th>\n",
       "      <td>-2.724520</td>\n",
       "      <td>2.174583</td>\n",
       "      <td>0.606687</td>\n",
       "      <td>0</td>\n",
       "    </tr>\n",
       "    <tr>\n",
       "      <th>4</th>\n",
       "      <td>0.649849</td>\n",
       "      <td>-1.024374</td>\n",
       "      <td>-0.250103</td>\n",
       "      <td>1</td>\n",
       "    </tr>\n",
       "  </tbody>\n",
       "</table>\n",
       "</div>"
      ],
      "text/plain": [
       "        PC1       PC2       PC3  Hrclstr_labels\n",
       "0 -2.637442  1.469038 -0.541359               0\n",
       "1 -0.022277 -1.431896 -0.020701               1\n",
       "2 -0.457626 -0.673301  0.961867               1\n",
       "3 -2.724520  2.174583  0.606687               0\n",
       "4  0.649849 -1.024374 -0.250103               1"
      ]
     },
     "execution_count": 583,
     "metadata": {},
     "output_type": "execute_result"
    }
   ],
   "source": [
    "# assign cluster labels\n",
    "hier_rm_df['Hrclstr_labels'] = cluster_labels\n",
    "rm_outlr_data['Hrclstr_labels'] = cluster_labels\n",
    "hier_rm_df.head()\n"
   ]
  },
  {
   "cell_type": "code",
   "execution_count": 584,
   "metadata": {},
   "outputs": [
    {
     "data": {
      "text/plain": [
       "<matplotlib.axes._subplots.AxesSubplot at 0x2924bea8a90>"
      ]
     },
     "execution_count": 584,
     "metadata": {},
     "output_type": "execute_result"
    },
    {
     "data": {
      "image/png": "[encoded data removed]",
      "text/plain": [
       "<Figure size 432x288 with 1 Axes>"
      ]
     },
     "metadata": {
      "needs_background": "light"
     },
     "output_type": "display_data"
    }
   ],
   "source": [
    "\n",
    "# plots\n",
    "sns.boxplot(x='Hrclstr_labels', y='PC1', data=hier_rm_df)"
   ]
  },
  {
   "cell_type": "code",
   "execution_count": 585,
   "metadata": {},
   "outputs": [
    {
     "data": {
      "text/plain": [
       "<matplotlib.axes._subplots.AxesSubplot at 0x2924aaad668>"
      ]
     },
     "execution_count": 585,
     "metadata": {},
     "output_type": "execute_result"
    },
    {
     "data": {
      "image/png": "[encoded data removed]",
      "text/plain": [
       "<Figure size 432x288 with 1 Axes>"
      ]
     },
     "metadata": {
      "needs_background": "light"
     },
     "output_type": "display_data"
    }
   ],
   "source": [
    "sns.boxplot(x='Hrclstr_labels', y='PC2', data=hier_rm_df)"
   ]
  },
  {
   "cell_type": "code",
   "execution_count": 586,
   "metadata": {},
   "outputs": [
    {
     "data": {
      "text/plain": [
       "<matplotlib.axes._subplots.AxesSubplot at 0x2924bf17358>"
      ]
     },
     "execution_count": 586,
     "metadata": {},
     "output_type": "execute_result"
    },
    {
     "data": {
      "image/png": "[encoded data removed]",
      "text/plain": [
       "<Figure size 432x288 with 1 Axes>"
      ]
     },
     "metadata": {
      "needs_background": "light"
     },
     "output_type": "display_data"
    }
   ],
   "source": [
    "sns.boxplot(x='Hrclstr_labels', y='PC3', data=hier_rm_df)"
   ]
  },
  {
   "cell_type": "code",
   "execution_count": 587,
   "metadata": {
    "scrolled": true
   },
   "outputs": [
    {
     "data": {
      "text/plain": [
       "<matplotlib.axes._subplots.AxesSubplot at 0x2924ab65278>"
      ]
     },
     "execution_count": 587,
     "metadata": {},
     "output_type": "execute_result"
    },
    {
     "data": {
      "image/png": "[encoded data removed]",
      "text/plain": [
       "<Figure size 432x288 with 1 Axes>"
      ]
     },
     "metadata": {
      "needs_background": "light"
     },
     "output_type": "display_data"
    }
   ],
   "source": [
    "sns.boxplot(x='Hrclstr_labels', y='gdpp', data=rm_outlr_data)"
   ]
  },
  {
   "cell_type": "code",
   "execution_count": 588,
   "metadata": {},
   "outputs": [
    {
     "data": {
      "text/plain": [
       "<matplotlib.axes._subplots.AxesSubplot at 0x2924beb3780>"
      ]
     },
     "execution_count": 588,
     "metadata": {},
     "output_type": "execute_result"
    },
    {
     "data": {
      "image/png": "[encoded data removed]",
      "text/plain": [
       "<Figure size 432x288 with 1 Axes>"
      ]
     },
     "metadata": {
      "needs_background": "light"
     },
     "output_type": "display_data"
    }
   ],
   "source": [
    "sns.boxplot(x='Hrclstr_labels', y='income', data=rm_outlr_data)"
   ]
  },
  {
   "cell_type": "code",
   "execution_count": 589,
   "metadata": {},
   "outputs": [
    {
     "data": {
      "text/plain": [
       "<matplotlib.axes._subplots.AxesSubplot at 0x2924be75d30>"
      ]
     },
     "execution_count": 589,
     "metadata": {},
     "output_type": "execute_result"
    },
    {
     "data": {
      "image/png": "[encoded data removed]",
      "text/plain": [
       "<Figure size 432x288 with 1 Axes>"
      ]
     },
     "metadata": {
      "needs_background": "light"
     },
     "output_type": "display_data"
    }
   ],
   "source": [
    "sns.boxplot(x='Hrclstr_labels', y='child_mort', data=rm_outlr_data)"
   ]
  },
  {
   "cell_type": "code",
   "execution_count": 590,
   "metadata": {},
   "outputs": [
    {
     "data": {
      "text/plain": [
       "<matplotlib.axes._subplots.AxesSubplot at 0x2924a9df550>"
      ]
     },
     "execution_count": 590,
     "metadata": {},
     "output_type": "execute_result"
    },
    {
     "data": {
      "image/png": "[encoded data removed]",
      "text/plain": [
       "<Figure size 432x288 with 1 Axes>"
      ]
     },
     "metadata": {
      "needs_background": "light"
     },
     "output_type": "display_data"
    }
   ],
   "source": [
    "sns.scatterplot(x='PC1', y='PC2',hue = 'Hrclstr_labels',data=rm_outlr_data)"
   ]
  },
  {
   "cell_type": "code",
   "execution_count": 591,
   "metadata": {},
   "outputs": [
    {
     "data": {
      "text/plain": [
       "<matplotlib.axes._subplots.AxesSubplot at 0x2924be203c8>"
      ]
     },
     "execution_count": 591,
     "metadata": {},
     "output_type": "execute_result"
    },
    {
     "data": {
      "image/png": "[encoded data removed]",
      "text/plain": [
       "<Figure size 432x288 with 1 Axes>"
      ]
     },
     "metadata": {
      "needs_background": "light"
     },
     "output_type": "display_data"
    }
   ],
   "source": [
    "sns.scatterplot(x='PC2', y='PC3',hue = 'Hrclstr_labels',data=rm_outlr_data)"
   ]
  },
  {
   "cell_type": "code",
   "execution_count": 592,
   "metadata": {},
   "outputs": [
    {
     "data": {
      "text/plain": [
       "<matplotlib.axes._subplots.AxesSubplot at 0x2924bfbde80>"
      ]
     },
     "execution_count": 592,
     "metadata": {},
     "output_type": "execute_result"
    },
    {
     "data": {
      "image/png": "[encoded data removed]",
      "text/plain": [
       "<Figure size 432x288 with 1 Axes>"
      ]
     },
     "metadata": {
      "needs_background": "light"
     },
     "output_type": "display_data"
    }
   ],
   "source": [
    "sns.scatterplot(x='PC1', y='PC3',hue = 'Hrclstr_labels',data=rm_outlr_data)"
   ]
  },
  {
   "cell_type": "markdown",
   "metadata": {},
   "source": [
    "# Analysis"
   ]
  },
  {
   "cell_type": "code",
   "execution_count": 593,
   "metadata": {},
   "outputs": [],
   "source": [
    "gdpp_mean_h=rm_outlr_data.groupby(['Hrclstr_labels']).gdpp.mean()\n",
    "childmort_mean_h=rm_outlr_data.groupby(['Hrclstr_labels']).child_mort.mean()\n",
    "Income_mean_h=rm_outlr_data.groupby(['Hrclstr_labels']).income.mean()"
   ]
  },
  {
   "cell_type": "code",
   "execution_count": 594,
   "metadata": {},
   "outputs": [],
   "source": [
    "# Let's concat the resultant with the Cluster ID columns\n",
    "df_clust_h=pd.concat([gdpp_mean_h,childmort_mean_h,Income_mean_h],axis=1)"
   ]
  },
  {
   "cell_type": "code",
   "execution_count": 595,
   "metadata": {
    "scrolled": true
   },
   "outputs": [
    {
     "data": {
      "text/html": [
       "<div>\n",
       "<style scoped>\n",
       "    .dataframe tbody tr th:only-of-type {\n",
       "        vertical-align: middle;\n",
       "    }\n",
       "\n",
       "    .dataframe tbody tr th {\n",
       "        vertical-align: top;\n",
       "    }\n",
       "\n",
       "    .dataframe thead th {\n",
       "        text-align: right;\n",
       "    }\n",
       "</style>\n",
       "<table border=\"1\" class=\"dataframe\">\n",
       "  <thead>\n",
       "    <tr style=\"text-align: right;\">\n",
       "      <th></th>\n",
       "      <th>gdpp</th>\n",
       "      <th>child_mort</th>\n",
       "      <th>income</th>\n",
       "    </tr>\n",
       "    <tr>\n",
       "      <th>rmout_clus_id</th>\n",
       "      <th></th>\n",
       "      <th></th>\n",
       "      <th></th>\n",
       "    </tr>\n",
       "  </thead>\n",
       "  <tbody>\n",
       "    <tr>\n",
       "      <th>0</th>\n",
       "      <td>35042.857143</td>\n",
       "      <td>5.292857</td>\n",
       "      <td>37310.714286</td>\n",
       "    </tr>\n",
       "    <tr>\n",
       "      <th>1</th>\n",
       "      <td>6065.090909</td>\n",
       "      <td>22.277922</td>\n",
       "      <td>11845.714286</td>\n",
       "    </tr>\n",
       "    <tr>\n",
       "      <th>2</th>\n",
       "      <td>1922.818182</td>\n",
       "      <td>87.447727</td>\n",
       "      <td>4038.295455</td>\n",
       "    </tr>\n",
       "  </tbody>\n",
       "</table>\n",
       "</div>"
      ],
      "text/plain": [
       "                       gdpp  child_mort        income\n",
       "rmout_clus_id                                        \n",
       "0              35042.857143    5.292857  37310.714286\n",
       "1               6065.090909   22.277922  11845.714286\n",
       "2               1922.818182   87.447727   4038.295455"
      ]
     },
     "execution_count": 595,
     "metadata": {},
     "output_type": "execute_result"
    }
   ],
   "source": [
    "# Analysed Mean data using Kmeans\n",
    "df_clust_km"
   ]
  },
  {
   "cell_type": "code",
   "execution_count": 596,
   "metadata": {},
   "outputs": [],
   "source": [
    "# The df_clust_km clearly shows that (K-MEANS) \n",
    "# CLuster 0 - Developed Countries - with High GDPP and Income and low Child_mort\n",
    "# Cluster 1 - Developing Countries - with medium GDPP, income and medium Child_mort\n",
    "# Cluster 2 - Under Developed COuntries with - with low GDPP, income and High Child_mort"
   ]
  },
  {
   "cell_type": "code",
   "execution_count": 597,
   "metadata": {
    "scrolled": true
   },
   "outputs": [
    {
     "data": {
      "text/html": [
       "<div>\n",
       "<style scoped>\n",
       "    .dataframe tbody tr th:only-of-type {\n",
       "        vertical-align: middle;\n",
       "    }\n",
       "\n",
       "    .dataframe tbody tr th {\n",
       "        vertical-align: top;\n",
       "    }\n",
       "\n",
       "    .dataframe thead th {\n",
       "        text-align: right;\n",
       "    }\n",
       "</style>\n",
       "<table border=\"1\" class=\"dataframe\">\n",
       "  <thead>\n",
       "    <tr style=\"text-align: right;\">\n",
       "      <th></th>\n",
       "      <th>gdpp</th>\n",
       "      <th>child_mort</th>\n",
       "      <th>income</th>\n",
       "    </tr>\n",
       "    <tr>\n",
       "      <th>Hrclstr_labels</th>\n",
       "      <th></th>\n",
       "      <th></th>\n",
       "      <th></th>\n",
       "    </tr>\n",
       "  </thead>\n",
       "  <tbody>\n",
       "    <tr>\n",
       "      <th>0</th>\n",
       "      <td>1922.818182</td>\n",
       "      <td>87.447727</td>\n",
       "      <td>4038.295455</td>\n",
       "    </tr>\n",
       "    <tr>\n",
       "      <th>1</th>\n",
       "      <td>5890.947368</td>\n",
       "      <td>22.417105</td>\n",
       "      <td>11405.526316</td>\n",
       "    </tr>\n",
       "    <tr>\n",
       "      <th>2</th>\n",
       "      <td>34500.000000</td>\n",
       "      <td>5.513793</td>\n",
       "      <td>37586.206897</td>\n",
       "    </tr>\n",
       "  </tbody>\n",
       "</table>\n",
       "</div>"
      ],
      "text/plain": [
       "                        gdpp  child_mort        income\n",
       "Hrclstr_labels                                        \n",
       "0                1922.818182   87.447727   4038.295455\n",
       "1                5890.947368   22.417105  11405.526316\n",
       "2               34500.000000    5.513793  37586.206897"
      ]
     },
     "execution_count": 597,
     "metadata": {},
     "output_type": "execute_result"
    }
   ],
   "source": [
    "# Analysed Mean data using Hierarchial clustering\n",
    "df_clust_h"
   ]
  },
  {
   "cell_type": "code",
   "execution_count": 598,
   "metadata": {},
   "outputs": [],
   "source": [
    "# The df_clust_h clearly shows that (Hierarchial)\n",
    "# CLuster 2 - Developed Countries - with High GDPP and Income and low Child_mort\n",
    "# Cluster 1 - Developing Countries - with medium GDPP, income and medium Child_mort\n",
    "# Cluster 0 - Under Developed COuntries with - with low GDPP, income and High Child_mort"
   ]
  },
  {
   "cell_type": "code",
   "execution_count": 599,
   "metadata": {
    "scrolled": true
   },
   "outputs": [
    {
     "data": {
      "text/plain": [
       "1    76\n",
       "0    44\n",
       "2    29\n",
       "Name: Hrclstr_labels, dtype: int64"
      ]
     },
     "execution_count": 599,
     "metadata": {},
     "output_type": "execute_result"
    }
   ],
   "source": [
    "# Check countries count based on Hierarchial clustering\n",
    "rm_outlr_data['Hrclstr_labels'].value_counts()\n",
    "#0 = Under Developed Countries\n",
    "#1 = Developing Countrues\n",
    "#2 = Developed Countries"
   ]
  },
  {
   "cell_type": "code",
   "execution_count": 600,
   "metadata": {
    "scrolled": true
   },
   "outputs": [
    {
     "data": {
      "text/plain": [
       "1    77\n",
       "2    44\n",
       "0    28\n",
       "Name: rmout_clus_id, dtype: int64"
      ]
     },
     "execution_count": 600,
     "metadata": {},
     "output_type": "execute_result"
    }
   ],
   "source": [
    "# Check countries count based on Kmeans clustering\n",
    "rm_outlr_data['rmout_clus_id'].value_counts()\n",
    "#2 = Under Developed Countries\n",
    "#1 = Developing Countrues\n",
    "#0 = Developed Countries"
   ]
  },
  {
   "cell_type": "code",
   "execution_count": 601,
   "metadata": {},
   "outputs": [
    {
     "data": {
      "text/plain": [
       "0            Afghanistan\n",
       "3                 Angola\n",
       "17                 Benin\n",
       "21              Botswana\n",
       "25          Burkina Faso\n",
       "26               Burundi\n",
       "28              Cameroon\n",
       "32                  Chad\n",
       "36               Comoros\n",
       "37      Congo, Dem. Rep.\n",
       "38           Congo, Rep.\n",
       "40         Cote d'Ivoire\n",
       "49     Equatorial Guinea\n",
       "50               Eritrea\n",
       "55                 Gabon\n",
       "56                Gambia\n",
       "59                 Ghana\n",
       "63                Guinea\n",
       "64         Guinea-Bissau\n",
       "72                  Iraq\n",
       "80                 Kenya\n",
       "81              Kiribati\n",
       "84                   Lao\n",
       "87               Lesotho\n",
       "88               Liberia\n",
       "93            Madagascar\n",
       "94                Malawi\n",
       "97                  Mali\n",
       "99            Mauritania\n",
       "106           Mozambique\n",
       "108              Namibia\n",
       "112                Niger\n",
       "116             Pakistan\n",
       "126               Rwanda\n",
       "129              Senegal\n",
       "132         Sierra Leone\n",
       "136      Solomon Islands\n",
       "137         South Africa\n",
       "142                Sudan\n",
       "147             Tanzania\n",
       "150                 Togo\n",
       "155               Uganda\n",
       "165                Yemen\n",
       "166               Zambia\n",
       "Name: country, dtype: object"
      ]
     },
     "execution_count": 601,
     "metadata": {},
     "output_type": "execute_result"
    }
   ],
   "source": [
    "# Under Developed Countries Using K-means\n",
    "rm_outlr_data[rm_outlr_data['rmout_clus_id']==2]['country']\n"
   ]
  },
  {
   "cell_type": "code",
   "execution_count": 602,
   "metadata": {
    "scrolled": true
   },
   "outputs": [
    {
     "data": {
      "text/plain": [
       "0            Afghanistan\n",
       "3                 Angola\n",
       "17                 Benin\n",
       "21              Botswana\n",
       "25          Burkina Faso\n",
       "26               Burundi\n",
       "28              Cameroon\n",
       "32                  Chad\n",
       "36               Comoros\n",
       "37      Congo, Dem. Rep.\n",
       "38           Congo, Rep.\n",
       "40         Cote d'Ivoire\n",
       "49     Equatorial Guinea\n",
       "50               Eritrea\n",
       "55                 Gabon\n",
       "56                Gambia\n",
       "59                 Ghana\n",
       "63                Guinea\n",
       "64         Guinea-Bissau\n",
       "72                  Iraq\n",
       "80                 Kenya\n",
       "81              Kiribati\n",
       "84                   Lao\n",
       "87               Lesotho\n",
       "88               Liberia\n",
       "93            Madagascar\n",
       "94                Malawi\n",
       "97                  Mali\n",
       "99            Mauritania\n",
       "106           Mozambique\n",
       "108              Namibia\n",
       "112                Niger\n",
       "116             Pakistan\n",
       "126               Rwanda\n",
       "129              Senegal\n",
       "132         Sierra Leone\n",
       "136      Solomon Islands\n",
       "137         South Africa\n",
       "142                Sudan\n",
       "147             Tanzania\n",
       "150                 Togo\n",
       "155               Uganda\n",
       "165                Yemen\n",
       "166               Zambia\n",
       "Name: country, dtype: object"
      ]
     },
     "execution_count": 602,
     "metadata": {},
     "output_type": "execute_result"
    }
   ],
   "source": [
    "# Under Developed Countries Using Hierarchal\n",
    "rm_outlr_data[rm_outlr_data['Hrclstr_labels']==0]['country']"
   ]
  },
  {
   "cell_type": "code",
   "execution_count": 603,
   "metadata": {},
   "outputs": [
    {
     "data": {
      "text/plain": [
       "['Afghanistan',\n",
       " 'Angola',\n",
       " 'Benin',\n",
       " 'Botswana',\n",
       " 'Burkina Faso',\n",
       " 'Burundi',\n",
       " 'Cameroon',\n",
       " 'Chad',\n",
       " 'Comoros',\n",
       " 'Congo, Dem. Rep.',\n",
       " 'Congo, Rep.',\n",
       " \"Cote d'Ivoire\",\n",
       " 'Equatorial Guinea',\n",
       " 'Eritrea',\n",
       " 'Gabon',\n",
       " 'Gambia',\n",
       " 'Ghana',\n",
       " 'Guinea',\n",
       " 'Guinea-Bissau',\n",
       " 'Iraq',\n",
       " 'Kenya',\n",
       " 'Kiribati',\n",
       " 'Lao',\n",
       " 'Lesotho',\n",
       " 'Liberia',\n",
       " 'Madagascar',\n",
       " 'Malawi',\n",
       " 'Mali',\n",
       " 'Mauritania',\n",
       " 'Mozambique',\n",
       " 'Namibia',\n",
       " 'Niger',\n",
       " 'Pakistan',\n",
       " 'Rwanda',\n",
       " 'Senegal',\n",
       " 'Sierra Leone',\n",
       " 'Solomon Islands',\n",
       " 'South Africa',\n",
       " 'Sudan',\n",
       " 'Tanzania',\n",
       " 'Togo',\n",
       " 'Uganda',\n",
       " 'Yemen',\n",
       " 'Zambia']"
      ]
     },
     "execution_count": 603,
     "metadata": {},
     "output_type": "execute_result"
    }
   ],
   "source": [
    "\n",
    "dfList = list(rm_outlr_data[rm_outlr_data['rmout_clus_id']==2]['country'])\n",
    "dfList"
   ]
  }
 ],
 "metadata": {
  "kernelspec": {
   "display_name": "Python 3",
   "language": "python",
   "name": "python3"
  },
  "language_info": {
   "codemirror_mode": {
    "name": "ipython",
    "version": 3
   },
   "file_extension": ".py",
   "mimetype": "text/x-python",
   "name": "python",
   "nbconvert_exporter": "python",
   "pygments_lexer": "ipython3",
   "version": "3.7.3"
  }
 },
 "nbformat": 4,
 "nbformat_minor": 2
}
